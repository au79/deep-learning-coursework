{
 "cells": [
  {
   "cell_type": "markdown",
   "metadata": {
    "pycharm": {
     "name": "#%% md\n"
    }
   },
   "source": [
    "# Tensor notes\n",
    "\n",
    "## 1-D Tensors"
   ]
  },
  {
   "cell_type": "code",
   "execution_count": null,
   "metadata": {
    "pycharm": {
     "is_executing": false
    }
   },
   "outputs": [],
   "source": [
    "%matplotlib inline\n",
    "\n",
    "import torch\n",
    "import numpy as np\n",
    "import matplotlib.pyplot as plt\n",
    "\n",
    "a_zero = torch.tensor(0)\n",
    "\n",
    "print(\"a0 size:\", a_zero.size())\n",
    "print(\"a0 ndim:\", a_zero.ndimension())\n",
    "print(\"a0 dtype:\", a_zero.dtype)\n",
    "print(\"a0 type:\", a_zero.type())\n",
    "\n",
    "a_one = torch.tensor([0, 1, 3, 7, 9])\n",
    "\n",
    "print(\"a1 size:\", a_one.size())\n",
    "print(\"a1 ndim:\", a_one.ndimension())\n",
    "print(\"a1 dtype:\", a_one.dtype)\n",
    "print(\"a1 type:\", a_one.type())\n",
    "\n",
    "change_type_tensor = torch.tensor([[0, 1, 2, 3, 4]])\n",
    "print(change_type_tensor.type())\n",
    "change_type_tensor = change_type_tensor.type(torch.FloatTensor)\n",
    "print(change_type_tensor.type())\n",
    "\n",
    "np_array = np.array([0, 1, 2, 3, 4, 5])\n",
    "torch_tensor = torch.from_numpy(np_array)\n",
    "print(torch_tensor)\n",
    "back2numpy = torch_tensor.numpy()\n",
    "print(back2numpy)\n",
    "np_array[2] = 17\n",
    "print(back2numpy)\n",
    "\n",
    "c = torch.tensor([100, 1, 2, 3, 0])\n",
    "d = c[1:4]\n",
    "print(d)\n",
    "c[2:4] = torch.tensor([17, 23])\n",
    "print(d)\n",
    "\n",
    "u = torch.tensor([1.0, 2.0])\n",
    "v = torch.tensor([3.0, 1.0])\n",
    "z = u * v\n",
    "print(z)\n",
    "print(u.dot(v))\n",
    "\n",
    "x = torch.tensor([0, np.pi/2, np.pi])\n",
    "y = x.sin()\n",
    "print(torch.sin(torch.tensor(np.pi)))\n",
    "\n",
    "angles = torch.linspace(0, 2*np.pi, 100)\n",
    "sines = angles.sin()\n",
    "plt.plot(angles.numpy(), sines.numpy())\n",
    "\n",
    "\n",
    "print(torch.tensor([10,9,8,7])[1:3])\n",
    "u=torch.tensor([1,2])\n",
    "v=torch.tensor([0,1])\n",
    "print(u.dot(v))\n",
    "print(torch.linspace(1, 3, steps=5).mean())"
   ]
  },
  {
   "cell_type": "markdown",
   "metadata": {
    "pycharm": {
     "name": "#%% md\n"
    }
   },
   "source": [
    "## 2-D Tensors"
   ]
  },
  {
   "cell_type": "code",
   "execution_count": null,
   "metadata": {
    "pycharm": {
     "is_executing": false,
     "name": "#%%\n"
    }
   },
   "outputs": [],
   "source": [
    "import torch\n",
    "import numpy as np\n",
    "import matplotlib.pyplot as plt\n",
    "%matplotlib inline\n",
    "\n",
    "x_2d = torch.tensor([[1,0], [0,1]])\n",
    "y_2d = torch.tensor([[2,1], [1,2]])\n",
    "print(x_2d.tolist(), ' + ', y_2d.tolist(), ' = ', (x_2d + y_2d).tolist())\n",
    "\n",
    "print(y_2d.tolist(), ' * 2 = ', (y_2d * 2).tolist())\n",
    "\n",
    "print(x_2d.tolist(), ' * ', y_2d.tolist(), ' = ', (x_2d * y_2d).tolist())\n",
    "\n",
    "a_2d = torch.tensor([[0,1,1],[1,0,1]])\n",
    "b_2d = torch.tensor([[1,1,2,4],[1,1,2,4],[-1,1,2,4]])\n",
    "print('A: ', a_2d.tolist())\n",
    "print('B: ', b_2d.tolist())\n",
    "print('AB: ', a_2d.mm(b_2d).tolist())\n",
    "\n",
    "print(a_2d.shape)\n",
    "print(b_2d.shape)\n",
    "\n",
    "review_2_1=torch.tensor([[0,1,1],[1,0,1]])\n",
    "print(review_2_1.size(), review_2_1.ndimension())\n",
    "\n",
    "def discont(x):\n",
    "    if x == 1:\n",
    "        return np.nan\n",
    "    else:\n",
    "        return 1\n",
    "    \n",
    "exes = torch.linspace(-2,2,5).numpy()\n",
    "print(exes)\n",
    "yfunc = np.vectorize(lambda t: discont(t))\n",
    "wyes = yfunc(exes)\n",
    "print(wyes)\n",
    "plt.plot(exes, wyes)\n",
    "\n",
    "\n",
    "\n",
    "\n"
   ]
  },
  {
   "cell_type": "code",
   "execution_count": 2,
   "metadata": {},
   "outputs": [
    {
     "name": "stdout",
     "output_type": "stream",
     "text": [
      "yhat:  tensor([1, 0, 0])\n",
      "zeroes:  tensor([[[[0., 0., 0., 0., 0.],\n",
      "          [0., 0., 0., 0., 0.],\n",
      "          [0., 0., 0., 0., 0.],\n",
      "          [0., 0., 0., 0., 0.],\n",
      "          [0., 0., 0., 0., 0.]]]])\n"
     ]
    }
   ],
   "source": [
    "import torch\n",
    "\n",
    "z = torch.tensor([[2,5,0],[10,8,2],[6,5,1]])\n",
    "_, yhat = z.max(1)\n",
    "print(\"yhat: \", yhat)\n",
    "\n",
    "zeroes = torch.zeros(1,1,5,5)\n",
    "print(\"zeroes: \", zeroes)"
   ]
  },
  {
   "cell_type": "code",
   "execution_count": null,
   "metadata": {},
   "outputs": [],
   "source": []
  }
 ],
 "metadata": {
  "kernelspec": {
   "display_name": "Python 3",
   "language": "python",
   "name": "python3"
  },
  "language_info": {
   "codemirror_mode": {
    "name": "ipython",
    "version": 3
   },
   "file_extension": ".py",
   "mimetype": "text/x-python",
   "name": "python",
   "nbconvert_exporter": "python",
   "pygments_lexer": "ipython3",
   "version": "3.7.3"
  },
  "pycharm": {
   "stem_cell": {
    "cell_type": "raw",
    "metadata": {
     "collapsed": false
    },
    "source": []
   }
  }
 },
 "nbformat": 4,
 "nbformat_minor": 1
}
