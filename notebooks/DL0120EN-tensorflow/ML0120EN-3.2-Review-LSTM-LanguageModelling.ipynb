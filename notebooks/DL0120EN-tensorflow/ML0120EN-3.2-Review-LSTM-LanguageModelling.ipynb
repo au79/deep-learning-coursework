{
 "cells": [
  {
   "cell_type": "markdown",
   "metadata": {},
   "source": [
    "<h1 align=\"center\"><font size=\"5\">RECURRENT NETWORKS and LSTM IN DEEP LEARNING</font></h1>"
   ]
  },
  {
   "cell_type": "markdown",
   "metadata": {},
   "source": [
    "<h2>Applying Recurrent Neural Networks/LSTM for Language Modeling</h2>\n",
    "Hello and welcome to this part. In this notebook, we will go over the topic of Language Modelling, and create a Recurrent Neural Network model based on the Long Short-Term Memory unit to train and benchmark on the Penn Treebank dataset. By the end of this notebook, you should be able to understand how TensorFlow builds and executes a RNN model for Language Modelling."
   ]
  },
  {
   "cell_type": "markdown",
   "metadata": {},
   "source": [
    "<h2>The Objective</h2>\n",
    "By now, you should have an understanding of how Recurrent Networks work -- a specialized model to process sequential data by keeping track of the \"state\" or context. In this notebook, we go over a TensorFlow code snippet for creating a model focused on <b>Language Modelling</b> -- a very relevant task that is the cornerstone of many different linguistic problems such as <b>Speech Recognition, Machine Translation and Image Captioning</b>. For this, we will be using the Penn Treebank dataset, which is an often-used dataset for benchmarking Language Modelling models."
   ]
  },
  {
   "cell_type": "markdown",
   "metadata": {},
   "source": [
    "\n",
    "<h2>Table of Contents</h2>\n",
    "<ol>\n",
    "    <li><a href=\"#language_modelling\">What exactly is Language Modelling?</a></li>\n",
    "    <li><a href=\"#treebank_dataset\">The Penn Treebank dataset</a></li>\n",
    "    <li><a href=\"#word_embedding\">Work Embedding</a></li>\n",
    "    <li><a href=\"#building_lstm_model\">Building the LSTM model for Language Modeling</a></li>\n",
    "    <li><a href=\"#ltsm\">LTSM</a></li>\n",
    "</ol>\n",
    "<p></p>\n",
    "</div>\n",
    "<br>"
   ]
  },
  {
   "cell_type": "markdown",
   "metadata": {
    "button": false,
    "new_sheet": false,
    "run_control": {
     "read_only": false
    }
   },
   "source": [
    "--------"
   ]
  },
  {
   "cell_type": "markdown",
   "metadata": {
    "button": false,
    "new_sheet": false,
    "run_control": {
     "read_only": false
    }
   },
   "source": [
    "<a id=\"language_modelling\"></a>\n",
    "<h2>What exactly is Language Modelling?</h2>\n",
    "Language Modelling, to put it simply, <b>is the task of assigning probabilities to sequences of words</b>. This means that, given a context of one or a sequence of words in the language the model was trained on, the model should provide the next most probable words or sequence of words that follows from the given sequence of words the sentence. Language Modelling is one of the most important tasks in Natural Language Processing.\n",
    "\n",
    "<img src=\"https://ibm.box.com/shared/static/1d1i5gub6wljby2vani2vzxp0xsph702.png\" width=\"1080\">\n",
    "<center><i>Example of a sentence being predicted</i></center>\n",
    "<br><br>\n",
    "In this example, one can see the predictions for the next word of a sentence, given the context \"This is an\". As you can see, this boils down to a sequential data analysis task -- you are given a word or a sequence of words (the input data), and, given the context (the state), you need to find out what is the next word (the prediction). This kind of analysis is very important for language-related tasks such as <b>Speech Recognition, Machine Translation, Image Captioning, Text Correction</b> and many other very relevant problems. \n",
    "\n",
    "<img src=\"https://ibm.box.com/shared/static/az39idf9ipfdpc5ugifpgxnydelhyf3i.png\" width=\"1080\">\n",
    "<center><i>The above example is a schema of an RNN in execution</i></center>\n",
    "<br><br>\n",
    "As the above image shows, Recurrent Network models fit this problem like a glove. Alongside LSTM and its capacity to maintain the model's state for over one thousand time steps, we have all the tools we need to undertake this problem. The goal for this notebook is to create a model that can reach <b>low levels of perplexity</b> on our desired dataset.\n",
    "\n",
    "For Language Modelling problems, <b>perplexity</b> is the way to gauge efficiency. Perplexity is simply a measure of how well a probabilistic model is able to predict its sample. A higher-level way to explain this would be saying that <b>low perplexity means a higher degree of trust in the predictions the model makes</b>. Therefore, the lower perplexity is, the better."
   ]
  },
  {
   "cell_type": "markdown",
   "metadata": {},
   "source": [
    "<a id=\"treebank_dataset\"></a>\n",
    "<h2>The Penn Treebank dataset</h2>\n",
    "Historically, datasets big enough for Natural Language Processing are hard to come by. This is in part due to the necessity of the sentences to be broken down and tagged with a certain degree of correctness -- or else the models trained on it won't be able to be correct at all. This means that we need a <b>large amount of data, annotated by or at least corrected by humans</b>. This is, of course, not an easy task at all.\n",
    "\n",
    "The Penn Treebank, or PTB for short, is a dataset maintained by the University of Pennsylvania. It is <i>huge</i> -- there are over <b>four million and eight hundred thousand</b> annotated words in it, all corrected by humans. It is composed of many different sources, from abstracts of Department of Energy papers to texts from the Library of America. Since it is verifiably correct and of such a huge size, the Penn Treebank is commonly used as a benchmark dataset for Language Modelling.\n",
    "\n",
    "The dataset is divided in different kinds of annotations, such as Piece-of-Speech, Syntactic and Semantic skeletons. For this example, we will simply use a sample of clean, non-annotated words (with the exception of one tag --<code>&lt;unk&gt;</code>\n",
    ", which is used for rare words such as uncommon proper nouns) for our model. This means that we just want to predict what the next words would be, not what they mean in context or their classes on a given sentence.\n",
    "\n",
    "<center>Example of text from the dataset we are going to use, <b>ptb.train</b></center>\n",
    "<br><br>\n",
    "\n",
    "<div class=\"alert alert-block alert-info\" style=\"margin-top: 20px\">\n",
    "    <center>the percentage of lung cancer deaths among the workers at the west <code>&lt;unk&gt;</code> mass. paper factory appears to be the highest for any asbestos workers studied in western industrialized countries he said \n",
    " the plant which is owned by <code>&lt;unk&gt;</code> & <code>&lt;unk&gt;</code> co. was under contract with <code>&lt;unk&gt;</code> to make the cigarette filters \n",
    " the finding probably will support those who argue that the U.S. should regulate the class of asbestos including <code>&lt;unk&gt;</code> more <code>&lt;unk&gt;</code> than the common kind of asbestos <code>&lt;unk&gt;</code> found in most schools and other buildings dr. <code>&lt;unk&gt;</code> said</center>\n",
    "</div>"
   ]
  },
  {
   "cell_type": "markdown",
   "metadata": {
    "button": false,
    "new_sheet": false,
    "run_control": {
     "read_only": false
    }
   },
   "source": [
    "<a id=\"word_embedding\"></a>\n",
    "<h2>Word Embeddings</h2><br/>\n",
    "\n",
    "For better processing, in this example, we will make use of <a href=\"https://www.tensorflow.org/tutorials/word2vec/\"><b>word embeddings</b></a>, which is <b>a way of representing sentence structures or words as n-dimensional vectors (where n is a reasonably high number, such as 200 or 500) of real numbers</b>. Basically, we will assign each word a randomly-initialized vector, and input those into the network to be processed. After a number of iterations, these vectors are expected to assume values that help the network to correctly predict what it needs to -- in our case, the probable next word in the sentence. This is shown to be a very effective task in Natural Language Processing, and is a commonplace practice.\n",
    "<br><br>\n",
    "<font size=\"4\"><strong>\n",
    "$$Vec(\"Example\") = [0.02, 0.00, 0.00, 0.92, 0.30, \\ldots]$$\n",
    "</strong></font>\n",
    "<br>\n",
    "Word Embedding tends to group up similarly used words <i>reasonably</i> close together in the vectorial space. For example, if we use T-SNE (a dimensional reduction visualization algorithm) to flatten the dimensions of our vectors into a 2-dimensional space and plot these words in a 2-dimensional space, we might see something like this:\n",
    "\n",
    "<img src=\"https://ibm.box.com/shared/static/bqhc5dg879gcoabzhxra1w8rkg3od1cu.png\" width=\"800\">\n",
    "<center><i>T-SNE Mockup with clusters marked for easier visualization</i></center>\n",
    "<br><br>\n",
    "As you can see, words that are frequently used together, in place of each other, or in the same places as them tend to be grouped together -- being closer together the higher they are correlated. For example, \"None\" is pretty semantically close to \"Zero\", while a phrase that uses \"Italy\", you could probably also fit \"Germany\" in it, with little damage to the sentence structure. The vectorial \"closeness\" for similar words like this is a great indicator of a well-built model.\n",
    "\n",
    "<hr>\n",
    " "
   ]
  },
  {
   "cell_type": "markdown",
   "metadata": {
    "button": false,
    "new_sheet": false,
    "run_control": {
     "read_only": false
    }
   },
   "source": [
    "We need to import the necessary modules for our code. We need <b><code>numpy</code></b> and <b><code>tensorflow</code></b>, obviously. Additionally, we can import directly the <b><code>tensorflow.models.rnn</code></b> model, which includes the function for building RNNs, and <b><code>tensorflow.models.rnn.ptb.reader</code></b> which is the helper module for getting the input data from the dataset we just downloaded.\n",
    "\n",
    "If you want to learn more take a look at https://github.com/tensorflow/models/blob/master/tutorials/rnn/ptb/reader.py"
   ]
  },
  {
   "cell_type": "code",
   "execution_count": 1,
   "metadata": {
    "button": false,
    "new_sheet": false,
    "run_control": {
     "read_only": false
    }
   },
   "outputs": [],
   "source": [
    "import time\n",
    "import numpy as np\n",
    "import tensorflow as tf"
   ]
  },
  {
   "cell_type": "code",
   "execution_count": 2,
   "metadata": {
    "button": false,
    "new_sheet": false,
    "run_control": {
     "read_only": false
    }
   },
   "outputs": [
    {
     "name": "stdout",
     "output_type": "stream",
     "text": [
      "Archive:  data/ptb.zip\r\n",
      "   creating: data/ptb/\r\n",
      "  inflating: data/ptb/reader.py      \r\n",
      "   creating: data/__MACOSX/\r\n",
      "   creating: data/__MACOSX/ptb/\r\n",
      "  inflating: data/__MACOSX/ptb/._reader.py  \r\n",
      "  inflating: data/__MACOSX/._ptb     \r\n"
     ]
    }
   ],
   "source": [
    "!mkdir data\n",
    "!wget -q -O data/ptb.zip https://ibm.box.com/shared/static/z2yvmhbskc45xd2a9a4kkn6hg4g4kj5r.zip\n",
    "!unzip -o data/ptb.zip -d data\n",
    "!cp data/ptb/reader.py .\n",
    "\n",
    "import reader"
   ]
  },
  {
   "cell_type": "markdown",
   "metadata": {
    "button": false,
    "new_sheet": false,
    "run_control": {
     "read_only": false
    }
   },
   "source": [
    "<a id=\"building_lstm_model\"></a>\n",
    "<h2>Building the LSTM model for Language Modeling</h2>\n",
    "Now that we know exactly what we are doing, we can start building our model using TensorFlow. The very first thing we need to do is download and extract the <code>simple-examples</code> dataset, which can be done by executing the code cell below."
   ]
  },
  {
   "cell_type": "code",
   "execution_count": 3,
   "metadata": {
    "button": false,
    "new_sheet": false,
    "run_control": {
     "read_only": false
    }
   },
   "outputs": [
    {
     "name": "stdout",
     "output_type": "stream",
     "text": [
      "--2019-11-11 23:28:11--  http://www.fit.vutbr.cz/~imikolov/rnnlm/simple-examples.tgz\n",
      "Resolving www.fit.vutbr.cz (www.fit.vutbr.cz)... 147.229.9.23, 2001:67c:1220:809::93e5:917\n",
      "Connecting to www.fit.vutbr.cz (www.fit.vutbr.cz)|147.229.9.23|:80... connected.\n",
      "HTTP request sent, awaiting response... 200 OK\n",
      "Length: 34869662 (33M) [application/x-gtar]\n",
      "Saving to: ‘simple-examples.tgz’\n",
      "\n",
      "simple-examples.tgz 100%[===================>]  33.25M  2.69MB/s    in 13s     \n",
      "\n",
      "2019-11-11 23:28:25 (2.48 MB/s) - ‘simple-examples.tgz’ saved [34869662/34869662]\n",
      "\n"
     ]
    }
   ],
   "source": [
    "!wget http://www.fit.vutbr.cz/~imikolov/rnnlm/simple-examples.tgz \n",
    "!tar xzf simple-examples.tgz -C data/"
   ]
  },
  {
   "cell_type": "markdown",
   "metadata": {
    "button": false,
    "new_sheet": false,
    "run_control": {
     "read_only": false
    }
   },
   "source": [
    "Additionally, for the sake of making it easy to play around with the model's hyperparameters, we can declare them beforehand. Feel free to change these -- you will see a difference in performance each time you change those!  \n"
   ]
  },
  {
   "cell_type": "code",
   "execution_count": 4,
   "metadata": {
    "button": false,
    "new_sheet": false,
    "run_control": {
     "read_only": false
    }
   },
   "outputs": [],
   "source": [
    "#Initial weight scale\n",
    "init_scale = 0.1\n",
    "#Initial learning rate\n",
    "learning_rate = 1.0\n",
    "#Maximum permissible norm for the gradient (For gradient clipping -- another measure against Exploding Gradients)\n",
    "max_grad_norm = 5\n",
    "#The number of layers in our model\n",
    "num_layers = 2\n",
    "#The total number of recurrence steps, also known as the number of layers when our RNN is \"unfolded\"\n",
    "num_steps = 20\n",
    "#The number of processing units (neurons) in the hidden layers\n",
    "hidden_size_l1 = 256\n",
    "hidden_size_l2 = 128\n",
    "#The maximum number of epochs trained with the initial learning rate\n",
    "max_epoch_decay_lr = 4\n",
    "#The total number of epochs in training\n",
    "max_epoch = 15\n",
    "#The probability for keeping data in the Dropout Layer (This is an optimization, but is outside our scope for this notebook!)\n",
    "#At 1, we ignore the Dropout Layer wrapping.\n",
    "keep_prob = 1\n",
    "#The decay for the learning rate\n",
    "decay = 0.5\n",
    "#The size for each batch of data\n",
    "batch_size = 60\n",
    "#The size of our vocabulary\n",
    "vocab_size = 10000\n",
    "embeding_vector_size = 200\n",
    "#Training flag to separate training from testing\n",
    "is_training = 1\n",
    "#Data directory for our dataset\n",
    "data_dir = \"data/simple-examples/data/\""
   ]
  },
  {
   "cell_type": "markdown",
   "metadata": {
    "button": false,
    "new_sheet": false,
    "run_control": {
     "read_only": false
    }
   },
   "source": [
    "Some clarifications for LSTM architecture based on the arguments:\n",
    "\n",
    "Network structure:\n",
    "<ul>\n",
    "    <li>In this network, the number of LSTM cells are 2. To give the model more expressive power, we can add multiple layers of LSTMs to process the data. The output of the first layer will become the input of the second and so on.\n",
    "    </li>\n",
    "    <li>The recurrence steps is 20, that is, when our RNN is \"Unfolded\", the recurrence step is 20.</li>   \n",
    "    <li>the structure is like:\n",
    "        <ul>\n",
    "            <li>200 input units -> [200x200] Weight -> 200 Hidden units (first layer) -> [200x200] Weight matrix  -> 200 Hidden units (second layer) ->  [200] weight Matrix -> 200 unit output</li>\n",
    "        </ul>\n",
    "    </li>\n",
    "</ul>\n",
    "<br>\n",
    "\n",
    "Input layer: \n",
    "<ul>\n",
    "    <li>The network has 200 input units.</li>\n",
    "    <li>Suppose each word is represented by an embedding vector of dimensionality e=200. The input layer of each cell will have 200 linear units. These e=200 linear units are connected to each of the h=200 LSTM units in the hidden layer (assuming there is only one hidden layer, though our case has 2 layers).\n",
    "    </li>\n",
    "    <li>The input shape is [batch_size, num_steps], that is [30x20]. It will turn into [30x20x200] after embedding, and then 20x[30x200]\n",
    "    </li>\n",
    "</ul>\n",
    "<br>\n",
    "\n",
    "Hidden layer:\n",
    "<ul>\n",
    "    <li>Each LSTM has 200 hidden units which is equivalent to the dimensionality of the embedding words and output.</li>\n",
    "</ul>\n",
    "<br>"
   ]
  },
  {
   "cell_type": "markdown",
   "metadata": {
    "button": false,
    "new_sheet": false,
    "run_control": {
     "read_only": false
    }
   },
   "source": [
    "There is a lot to be done and a ton of information to process at the same time, so go over this code slowly. It may seem complex at first, but if you try to apply what you just learned about language modelling to the code you see, you should be able to understand it.\n",
    "\n",
    "This code is adapted from the <a href=\"https://github.com/tensorflow/models\">PTBModel</a> example bundled with the TensorFlow source code.\n",
    "\n",
    "\n",
    "<h4>Train data</h4>\n",
    "The story starts from data:\n",
    "<ul>\n",
    "    <li>Train data is a list of words, of size 929589, represented by numbers, e.g. [9971, 9972, 9974, 9975,...]</li>\n",
    "    <li>We read data as mini-batch of size b=30. Assume the size of each sentence is 20 words (num_steps = 20). Then it will take $$floor(\\frac{N}{b \\times h})+1=1548$$ iterations for the learner to go through all sentences once. Where N is the size of the list of words, b is batch size, andh is size of each sentence. So, the number of iterators is 1548\n",
    "    </li>\n",
    "    <li>Each batch data is read from train dataset of size 600, and shape of [30x20]</li>\n",
    "</ul>"
   ]
  },
  {
   "cell_type": "markdown",
   "metadata": {
    "button": false,
    "new_sheet": false,
    "run_control": {
     "read_only": false
    }
   },
   "source": [
    "First we start an interactive session:"
   ]
  },
  {
   "cell_type": "code",
   "execution_count": 5,
   "metadata": {
    "button": false,
    "new_sheet": false,
    "run_control": {
     "read_only": false
    }
   },
   "outputs": [],
   "source": [
    "session = tf.InteractiveSession()"
   ]
  },
  {
   "cell_type": "code",
   "execution_count": 6,
   "metadata": {
    "button": false,
    "new_sheet": false,
    "run_control": {
     "read_only": false
    }
   },
   "outputs": [],
   "source": [
    "# Reads the data and separates it into training data, validation data and testing data\n",
    "raw_data = reader.ptb_raw_data(data_dir)\n",
    "train_data, valid_data, test_data, vocab, word_to_id = raw_data"
   ]
  },
  {
   "cell_type": "code",
   "execution_count": 7,
   "metadata": {},
   "outputs": [
    {
     "data": {
      "text/plain": [
       "929589"
      ]
     },
     "execution_count": 7,
     "metadata": {},
     "output_type": "execute_result"
    }
   ],
   "source": [
    "len(train_data)"
   ]
  },
  {
   "cell_type": "code",
   "execution_count": 8,
   "metadata": {},
   "outputs": [
    {
     "name": "stdout",
     "output_type": "stream",
     "text": [
      "['aer', 'banknote', 'berlitz', 'calloway', 'centrust', 'cluett', 'fromstein', 'gitano', 'guterman', 'hydro-quebec', 'ipo', 'kia', 'memotec', 'mlx', 'nahb', 'punts', 'rake', 'regatta', 'rubens', 'sim', 'snack-food', 'ssangyong', 'swapo', 'wachter', '<eos>', 'pierre', '<unk>', 'N', 'years', 'old', 'will', 'join', 'the', 'board', 'as', 'a', 'nonexecutive', 'director', 'nov.', 'N', '<eos>', 'mr.', '<unk>', 'is', 'chairman', 'of', '<unk>', 'n.v.', 'the', 'dutch', 'publishing', 'group', '<eos>', 'rudolph', '<unk>', 'N', 'years', 'old', 'and', 'former', 'chairman', 'of', 'consolidated', 'gold', 'fields', 'plc', 'was', 'named', 'a', 'nonexecutive', 'director', 'of', 'this', 'british', 'industrial', 'conglomerate', '<eos>', 'a', 'form', 'of', 'asbestos', 'once', 'used', 'to', 'make', 'kent', 'cigarette', 'filters', 'has', 'caused', 'a', 'high', 'percentage', 'of', 'cancer', 'deaths', 'among', 'a', 'group', 'of']\n"
     ]
    }
   ],
   "source": [
    "def id_to_word(id_list):\n",
    "    line = []\n",
    "    for w in id_list:\n",
    "        for word, wid in word_to_id.items():\n",
    "            if wid == w:\n",
    "                line.append(word)\n",
    "    return line            \n",
    "                \n",
    "\n",
    "print(id_to_word(train_data[0:100]))"
   ]
  },
  {
   "cell_type": "markdown",
   "metadata": {
    "button": false,
    "new_sheet": false,
    "run_control": {
     "read_only": false
    }
   },
   "source": [
    "Lets just read one mini-batch now and feed our network:"
   ]
  },
  {
   "cell_type": "code",
   "execution_count": 9,
   "metadata": {
    "button": false,
    "new_sheet": false,
    "run_control": {
     "read_only": false
    }
   },
   "outputs": [],
   "source": [
    "itera = reader.ptb_iterator(train_data, batch_size, num_steps)\n",
    "first_touple = itera.__next__()\n",
    "x = first_touple[0]\n",
    "y = first_touple[1]"
   ]
  },
  {
   "cell_type": "code",
   "execution_count": 10,
   "metadata": {
    "button": false,
    "new_sheet": false,
    "run_control": {
     "read_only": false
    }
   },
   "outputs": [
    {
     "data": {
      "text/plain": [
       "(60, 20)"
      ]
     },
     "execution_count": 10,
     "metadata": {},
     "output_type": "execute_result"
    }
   ],
   "source": [
    "x.shape"
   ]
  },
  {
   "cell_type": "markdown",
   "metadata": {
    "button": false,
    "new_sheet": false,
    "run_control": {
     "read_only": false
    }
   },
   "source": [
    "Lets look at 3 sentences of our input x:"
   ]
  },
  {
   "cell_type": "code",
   "execution_count": 11,
   "metadata": {
    "button": false,
    "new_sheet": false,
    "run_control": {
     "read_only": false
    }
   },
   "outputs": [
    {
     "data": {
      "text/plain": [
       "array([[9970, 9971, 9972, 9974, 9975, 9976, 9980, 9981, 9982, 9983, 9984,\n",
       "        9986, 9987, 9988, 9989, 9991, 9992, 9993, 9994, 9995],\n",
       "       [ 901,   33, 3361,    8, 1279,  437,  597,    6,  261, 4276, 1089,\n",
       "           8, 2836,    2,  269,    4, 5526,  241,   13, 2420],\n",
       "       [2654,    6,  334, 2886,    4,    1,  233,  711,  834,   11,  130,\n",
       "         123,    7,  514,    2,   63,   10,  514,    8,  605]],\n",
       "      dtype=int32)"
      ]
     },
     "execution_count": 11,
     "metadata": {},
     "output_type": "execute_result"
    }
   ],
   "source": [
    "x[0:3]"
   ]
  },
  {
   "cell_type": "markdown",
   "metadata": {
    "button": false,
    "new_sheet": false,
    "run_control": {
     "read_only": false
    }
   },
   "source": [
    "we define 2 place holders to feed them with mini-batchs, that is x and y:"
   ]
  },
  {
   "cell_type": "code",
   "execution_count": 12,
   "metadata": {
    "button": false,
    "new_sheet": false,
    "run_control": {
     "read_only": false
    }
   },
   "outputs": [],
   "source": [
    "_input_data = tf.placeholder(tf.int32, [batch_size, num_steps]) #[30#20]\n",
    "_targets = tf.placeholder(tf.int32, [batch_size, num_steps]) #[30#20]"
   ]
  },
  {
   "cell_type": "markdown",
   "metadata": {
    "button": false,
    "new_sheet": false,
    "run_control": {
     "read_only": false
    }
   },
   "source": [
    "Lets define a dictionary, and use it later to feed the placeholders with our first mini-batch:"
   ]
  },
  {
   "cell_type": "code",
   "execution_count": 13,
   "metadata": {
    "button": false,
    "new_sheet": false,
    "run_control": {
     "read_only": false
    }
   },
   "outputs": [],
   "source": [
    "feed_dict = {_input_data:x, _targets:y}"
   ]
  },
  {
   "cell_type": "markdown",
   "metadata": {
    "button": false,
    "new_sheet": false,
    "run_control": {
     "read_only": false
    }
   },
   "source": [
    "For example, we can use it to feed <code>\\_input\\_data</code>:"
   ]
  },
  {
   "cell_type": "code",
   "execution_count": 14,
   "metadata": {
    "button": false,
    "new_sheet": false,
    "run_control": {
     "read_only": false
    }
   },
   "outputs": [
    {
     "data": {
      "text/plain": [
       "array([[9970, 9971, 9972, ..., 9993, 9994, 9995],\n",
       "       [ 901,   33, 3361, ...,  241,   13, 2420],\n",
       "       [2654,    6,  334, ...,  514,    8,  605],\n",
       "       ...,\n",
       "       [7831,   36, 1678, ...,    4, 4558,  157],\n",
       "       [  59, 2070, 2433, ...,  400,    1, 1173],\n",
       "       [2097,    3,    2, ..., 2043,   23,    1]], dtype=int32)"
      ]
     },
     "execution_count": 14,
     "metadata": {},
     "output_type": "execute_result"
    }
   ],
   "source": [
    "session.run(_input_data, feed_dict)"
   ]
  },
  {
   "cell_type": "markdown",
   "metadata": {
    "button": false,
    "new_sheet": false,
    "run_control": {
     "read_only": false
    }
   },
   "source": [
    "In this step, we create the stacked LSTM, which is a 2 layer LSTM network:"
   ]
  },
  {
   "cell_type": "code",
   "execution_count": 15,
   "metadata": {
    "button": false,
    "new_sheet": false,
    "run_control": {
     "read_only": false
    }
   },
   "outputs": [
    {
     "name": "stdout",
     "output_type": "stream",
     "text": [
      "\n",
      "WARNING: The TensorFlow contrib module will not be included in TensorFlow 2.0.\n",
      "For more information, please see:\n",
      "  * https://github.com/tensorflow/community/blob/master/rfcs/20180907-contrib-sunset.md\n",
      "  * https://github.com/tensorflow/addons\n",
      "If you depend on functionality not listed there, please file an issue.\n",
      "\n",
      "WARNING:tensorflow:From <ipython-input-15-ddf565d0e753>:1: BasicLSTMCell.__init__ (from tensorflow.python.ops.rnn_cell_impl) is deprecated and will be removed in a future version.\n",
      "Instructions for updating:\n",
      "This class is equivalent as tf.keras.layers.LSTMCell, and will be replaced by that in Tensorflow 2.0.\n",
      "WARNING:tensorflow:From <ipython-input-15-ddf565d0e753>:3: MultiRNNCell.__init__ (from tensorflow.python.ops.rnn_cell_impl) is deprecated and will be removed in a future version.\n",
      "Instructions for updating:\n",
      "This class is equivalent as tf.keras.layers.StackedRNNCells, and will be replaced by that in Tensorflow 2.0.\n"
     ]
    }
   ],
   "source": [
    "lstm_cell_l1 = tf.contrib.rnn.BasicLSTMCell(hidden_size_l1, forget_bias=0.0)\n",
    "lstm_cell_l2 = tf.contrib.rnn.BasicLSTMCell(hidden_size_l2, forget_bias=0.0)\n",
    "stacked_lstm = tf.contrib.rnn.MultiRNNCell([lstm_cell_l1, lstm_cell_l2])"
   ]
  },
  {
   "cell_type": "markdown",
   "metadata": {
    "button": false,
    "new_sheet": false,
    "run_control": {
     "read_only": false
    }
   },
   "source": [
    "Also, we initialize the states of the nework:\n",
    "\n",
    "<h4>_initial_state</h4>\n",
    "\n",
    "For each LCTM, there are 2 state matrices, c\\_state and m\\_state.  c_state and m_state represent \"Memory State\" and \"Cell State\". Each hidden layer, has a vector of size 30, which keeps the states. so, for 200 hidden units in each LSTM, we have a matrix of size [30x200]"
   ]
  },
  {
   "cell_type": "code",
   "execution_count": 16,
   "metadata": {
    "button": false,
    "new_sheet": false,
    "run_control": {
     "read_only": false
    }
   },
   "outputs": [
    {
     "data": {
      "text/plain": [
       "(LSTMStateTuple(c=<tf.Tensor 'MultiRNNCellZeroState/BasicLSTMCellZeroState/zeros:0' shape=(60, 256) dtype=float32>, h=<tf.Tensor 'MultiRNNCellZeroState/BasicLSTMCellZeroState/zeros_1:0' shape=(60, 256) dtype=float32>),\n",
       " LSTMStateTuple(c=<tf.Tensor 'MultiRNNCellZeroState/BasicLSTMCellZeroState_1/zeros:0' shape=(60, 128) dtype=float32>, h=<tf.Tensor 'MultiRNNCellZeroState/BasicLSTMCellZeroState_1/zeros_1:0' shape=(60, 128) dtype=float32>))"
      ]
     },
     "execution_count": 16,
     "metadata": {},
     "output_type": "execute_result"
    }
   ],
   "source": [
    "_initial_state = stacked_lstm.zero_state(batch_size, tf.float32)\n",
    "_initial_state"
   ]
  },
  {
   "cell_type": "markdown",
   "metadata": {
    "button": false,
    "new_sheet": false,
    "run_control": {
     "read_only": false
    }
   },
   "source": [
    "Lets look at the states, though they are all zero for now:"
   ]
  },
  {
   "cell_type": "code",
   "execution_count": 17,
   "metadata": {
    "button": false,
    "new_sheet": false,
    "run_control": {
     "read_only": false
    }
   },
   "outputs": [
    {
     "data": {
      "text/plain": [
       "(LSTMStateTuple(c=array([[0., 0., 0., ..., 0., 0., 0.],\n",
       "        [0., 0., 0., ..., 0., 0., 0.],\n",
       "        [0., 0., 0., ..., 0., 0., 0.],\n",
       "        ...,\n",
       "        [0., 0., 0., ..., 0., 0., 0.],\n",
       "        [0., 0., 0., ..., 0., 0., 0.],\n",
       "        [0., 0., 0., ..., 0., 0., 0.]], dtype=float32), h=array([[0., 0., 0., ..., 0., 0., 0.],\n",
       "        [0., 0., 0., ..., 0., 0., 0.],\n",
       "        [0., 0., 0., ..., 0., 0., 0.],\n",
       "        ...,\n",
       "        [0., 0., 0., ..., 0., 0., 0.],\n",
       "        [0., 0., 0., ..., 0., 0., 0.],\n",
       "        [0., 0., 0., ..., 0., 0., 0.]], dtype=float32)),\n",
       " LSTMStateTuple(c=array([[0., 0., 0., ..., 0., 0., 0.],\n",
       "        [0., 0., 0., ..., 0., 0., 0.],\n",
       "        [0., 0., 0., ..., 0., 0., 0.],\n",
       "        ...,\n",
       "        [0., 0., 0., ..., 0., 0., 0.],\n",
       "        [0., 0., 0., ..., 0., 0., 0.],\n",
       "        [0., 0., 0., ..., 0., 0., 0.]], dtype=float32), h=array([[0., 0., 0., ..., 0., 0., 0.],\n",
       "        [0., 0., 0., ..., 0., 0., 0.],\n",
       "        [0., 0., 0., ..., 0., 0., 0.],\n",
       "        ...,\n",
       "        [0., 0., 0., ..., 0., 0., 0.],\n",
       "        [0., 0., 0., ..., 0., 0., 0.],\n",
       "        [0., 0., 0., ..., 0., 0., 0.]], dtype=float32)))"
      ]
     },
     "execution_count": 17,
     "metadata": {},
     "output_type": "execute_result"
    }
   ],
   "source": [
    "session.run(_initial_state, feed_dict)"
   ]
  },
  {
   "cell_type": "markdown",
   "metadata": {
    "button": false,
    "new_sheet": false,
    "run_control": {
     "read_only": false
    }
   },
   "source": [
    "<h3>Embeddings</h3>\n",
    "We have to convert the words in our dataset to vectors of numbers. The traditional approach is to use one-hot encoding method that is usually used for converting categorical values to numerical values. However, One-hot encoded vectors are high-dimensional, sparse and in a big dataset, computationally inefficient. So, we use word2vec approach. It is, in fact, a layer in our LSTM network, where the word IDs will be represented as a dense representation before feeding to the LSTM. \n",
    "\n",
    "The embedded vectors also get updated during the training process of the deep neural network.\n",
    "We create the embeddings for our input data. <b>embedding_vocab</b> is matrix of [10000x200] for all 10000 unique words."
   ]
  },
  {
   "cell_type": "code",
   "execution_count": 18,
   "metadata": {
    "button": false,
    "new_sheet": false,
    "run_control": {
     "read_only": false
    }
   },
   "outputs": [
    {
     "name": "stdout",
     "output_type": "stream",
     "text": [
      "WARNING:tensorflow:From /opt/conda/lib/python3.7/site-packages/tensorflow/python/framework/op_def_library.py:263: colocate_with (from tensorflow.python.framework.ops) is deprecated and will be removed in a future version.\n",
      "Instructions for updating:\n",
      "Colocations handled automatically by placer.\n"
     ]
    }
   ],
   "source": [
    "embedding_vocab = tf.get_variable(\"embedding_vocab\", [vocab_size, embeding_vector_size])  #[10000x200]"
   ]
  },
  {
   "cell_type": "markdown",
   "metadata": {},
   "source": [
    "Lets initialize the <code>embedding_words</code> variable with random values."
   ]
  },
  {
   "cell_type": "code",
   "execution_count": 19,
   "metadata": {
    "button": false,
    "new_sheet": false,
    "run_control": {
     "read_only": false
    }
   },
   "outputs": [
    {
     "data": {
      "text/plain": [
       "array([[-0.01090906, -0.01252441,  0.00085381, ..., -0.02170702,\n",
       "         0.02047159, -0.01360881],\n",
       "       [ 0.01087789,  0.01029054, -0.01628677, ..., -0.016363  ,\n",
       "        -0.02304899, -0.01355824],\n",
       "       [ 0.01814057,  0.0017493 , -0.02259878, ..., -0.01371863,\n",
       "        -0.0056658 , -0.01668109],\n",
       "       ...,\n",
       "       [ 0.01824567,  0.02267734, -0.01741922, ..., -0.0172628 ,\n",
       "         0.01822412,  0.02366827],\n",
       "       [-0.00414539,  0.00542781, -0.00634052, ...,  0.01322391,\n",
       "        -0.001031  , -0.02162813],\n",
       "       [-0.01738204, -0.01063498, -0.01083666, ..., -0.00610192,\n",
       "         0.0112123 ,  0.01444384]], dtype=float32)"
      ]
     },
     "execution_count": 19,
     "metadata": {},
     "output_type": "execute_result"
    }
   ],
   "source": [
    "session.run(tf.global_variables_initializer())\n",
    "session.run(embedding_vocab)"
   ]
  },
  {
   "cell_type": "markdown",
   "metadata": {
    "button": false,
    "new_sheet": false,
    "run_control": {
     "read_only": false
    }
   },
   "source": [
    "<b>embedding_lookup()</b> finds the embedded values for our batch of 30x20 words. It  goes to each row of <code>input_data</code>, and for each word in the row/sentence, finds the correspond vector in <code>embedding_dic<code>. <br>\n",
    "It creates a [30x20x200] tensor, so, the first element of <b>inputs</b> (the first sentence), is a matrix of 20x200, which each row of it, is vector representing a word in the sentence."
   ]
  },
  {
   "cell_type": "code",
   "execution_count": 20,
   "metadata": {
    "button": false,
    "new_sheet": false,
    "run_control": {
     "read_only": false
    }
   },
   "outputs": [
    {
     "data": {
      "text/plain": [
       "<tf.Tensor 'embedding_lookup/Identity:0' shape=(60, 20, 200) dtype=float32>"
      ]
     },
     "execution_count": 20,
     "metadata": {},
     "output_type": "execute_result"
    }
   ],
   "source": [
    "# Define where to get the data for our embeddings from\n",
    "inputs = tf.nn.embedding_lookup(embedding_vocab, _input_data)  #shape=(30, 20, 200) \n",
    "inputs"
   ]
  },
  {
   "cell_type": "code",
   "execution_count": 21,
   "metadata": {
    "button": false,
    "new_sheet": false,
    "run_control": {
     "read_only": false
    }
   },
   "outputs": [
    {
     "data": {
      "text/plain": [
       "array([[-0.01177269, -0.00466816,  0.0129761 , ..., -0.01828818,\n",
       "         0.01303883,  0.02182837],\n",
       "       [-0.00747232, -0.00708633,  0.02241865, ...,  0.02079222,\n",
       "         0.00257243,  0.0159017 ],\n",
       "       [ 0.0045522 , -0.01187854, -0.02396662, ...,  0.00369568,\n",
       "        -0.00567802, -0.01924924],\n",
       "       ...,\n",
       "       [-0.02085695, -0.00534383, -0.00893876, ...,  0.01692843,\n",
       "        -0.01436005,  0.01839488],\n",
       "       [-0.00095555, -0.01078469,  0.01682818, ...,  0.01619748,\n",
       "         0.0006727 ,  0.00724323],\n",
       "       [ 0.02408835, -0.00322972,  0.019538  , ..., -0.01619094,\n",
       "        -0.0073134 ,  0.02368823]], dtype=float32)"
      ]
     },
     "execution_count": 21,
     "metadata": {},
     "output_type": "execute_result"
    }
   ],
   "source": [
    "session.run(inputs[0], feed_dict)"
   ]
  },
  {
   "cell_type": "markdown",
   "metadata": {
    "button": false,
    "new_sheet": false,
    "run_control": {
     "read_only": false
    }
   },
   "source": [
    "<h3>Constructing Recurrent Neural Networks</h3>\n",
    "<b>tf.nn.dynamic_rnn()</b> creates a recurrent neural network using <b>stacked_lstm</b>. \n",
    "\n",
    "The input should be a Tensor of shape: [batch_size, max_time, embedding_vector_size], in our case it would be (30, 20, 200)\n",
    "\n",
    "This method, returns a pair (outputs, new_state) where:\n",
    "<ul>\n",
    "    <li><b>outputs</b>: is a length T list of outputs (one for each input), or a nested tuple of such elements.</li>\n",
    "    <li><b>new_state</b>: is the final state.</li>\n",
    "</ul>"
   ]
  },
  {
   "cell_type": "code",
   "execution_count": 22,
   "metadata": {
    "button": false,
    "new_sheet": false,
    "run_control": {
     "read_only": false
    },
    "scrolled": true
   },
   "outputs": [
    {
     "name": "stdout",
     "output_type": "stream",
     "text": [
      "WARNING:tensorflow:From <ipython-input-22-f5b68f99f9ac>:1: dynamic_rnn (from tensorflow.python.ops.rnn) is deprecated and will be removed in a future version.\n",
      "Instructions for updating:\n",
      "Please use `keras.layers.RNN(cell)`, which is equivalent to this API\n"
     ]
    }
   ],
   "source": [
    "outputs, new_state =  tf.nn.dynamic_rnn(stacked_lstm, inputs, initial_state=_initial_state)"
   ]
  },
  {
   "cell_type": "markdown",
   "metadata": {
    "button": false,
    "new_sheet": false,
    "run_control": {
     "read_only": false
    }
   },
   "source": [
    "so, lets look at the outputs. The output of the stackedLSTM comes from 200 hidden_layer, and in each time step(=20), one of them get activated. we use the linear activation to map the 200 hidden layer to a [?x10 matrix]"
   ]
  },
  {
   "cell_type": "code",
   "execution_count": 23,
   "metadata": {
    "button": false,
    "new_sheet": false,
    "run_control": {
     "read_only": false
    }
   },
   "outputs": [
    {
     "data": {
      "text/plain": [
       "<tf.Tensor 'rnn/transpose_1:0' shape=(60, 20, 128) dtype=float32>"
      ]
     },
     "execution_count": 23,
     "metadata": {},
     "output_type": "execute_result"
    }
   ],
   "source": [
    "outputs"
   ]
  },
  {
   "cell_type": "code",
   "execution_count": 24,
   "metadata": {
    "button": false,
    "new_sheet": false,
    "run_control": {
     "read_only": false
    }
   },
   "outputs": [
    {
     "data": {
      "text/plain": [
       "array([[-1.6196853e-05,  1.9547089e-04, -1.0371037e-04, ...,\n",
       "         6.6509761e-04, -1.8095379e-04, -4.9958169e-05],\n",
       "       [ 5.2236195e-04, -1.5910564e-04, -2.1129416e-04, ...,\n",
       "         8.8089617e-04, -5.9149956e-04,  2.8468767e-04],\n",
       "       [ 8.5280713e-04,  1.7461268e-04, -2.0259387e-04, ...,\n",
       "         8.9962402e-04, -5.1323458e-04,  3.9596210e-04],\n",
       "       ...,\n",
       "       [ 1.2505364e-04, -1.2335317e-03, -4.2605598e-04, ...,\n",
       "        -1.3711655e-03, -9.0894297e-05,  1.0004942e-03],\n",
       "       [ 2.0410161e-04, -1.2450404e-03, -9.2611299e-05, ...,\n",
       "        -5.4015510e-04, -8.9853205e-04,  1.6501844e-03],\n",
       "       [-1.1666739e-04, -1.7863277e-03,  2.7924308e-04, ...,\n",
       "         2.0253425e-04, -9.8946597e-04,  1.8888758e-03]], dtype=float32)"
      ]
     },
     "execution_count": 24,
     "metadata": {},
     "output_type": "execute_result"
    }
   ],
   "source": [
    "session.run(tf.global_variables_initializer())\n",
    "session.run(outputs[0], feed_dict)"
   ]
  },
  {
   "cell_type": "markdown",
   "metadata": {
    "button": false,
    "new_sheet": false,
    "run_control": {
     "read_only": false
    }
   },
   "source": [
    "we need to flatten the outputs to be able to connect it softmax layer. Lets reshape the output tensor from  [30 x 20 x 200] to [600 x 200].\n",
    "\n",
    "<b>Notice:</b> Imagine our output is 3-d tensor as following (of course each <code>sen_x_word_y</code> is a an embedded vector by itself): \n",
    "<ul>\n",
    "    <li>sentence 1: [[sen1word1], [sen1word2], [sen1word3], ..., [sen1word20]]</li> \n",
    "    <li>sentence 2: [[sen2word1], [sen2word2], [sen2word3], ..., [sen2word20]]</li>   \n",
    "    <li>sentence 3: [[sen3word1], [sen3word2], [sen3word3], ..., [sen3word20]]</li>  \n",
    "    <li>...  </li>\n",
    "    <li>sentence 30: [[sen30word1], [sen30word2], [sen30word3], ..., [sen30word20]]</li>   \n",
    "</ul>\n",
    "Now, the flatten would convert this 3-dim tensor to:\n",
    "\n",
    "[ [sen1word1], [sen1word2], [sen1word3], ..., [sen1word20],[sen2word1], [sen2word2], [sen2word3], ..., [sen2word20], ..., [sen30word20] ]\n"
   ]
  },
  {
   "cell_type": "code",
   "execution_count": 25,
   "metadata": {
    "button": false,
    "new_sheet": false,
    "run_control": {
     "read_only": false
    }
   },
   "outputs": [
    {
     "data": {
      "text/plain": [
       "<tf.Tensor 'Reshape:0' shape=(1200, 128) dtype=float32>"
      ]
     },
     "execution_count": 25,
     "metadata": {},
     "output_type": "execute_result"
    }
   ],
   "source": [
    "output = tf.reshape(outputs, [-1, hidden_size_l2])\n",
    "output"
   ]
  },
  {
   "cell_type": "markdown",
   "metadata": {
    "button": false,
    "new_sheet": false,
    "run_control": {
     "read_only": false
    }
   },
   "source": [
    "<h3>logistic unit</h3>\n",
    "Now, we create a logistic unit to return the probability of the output word in our vocabulary with 1000 words. \n",
    "\n",
    "$$Softmax = [600 \\times 200] * [200 \\times 1000] + [1 \\times 1000] \\Longrightarrow [600 \\times 1000]$$"
   ]
  },
  {
   "cell_type": "code",
   "execution_count": 26,
   "metadata": {
    "button": false,
    "new_sheet": false,
    "run_control": {
     "read_only": false
    }
   },
   "outputs": [],
   "source": [
    "softmax_w = tf.get_variable(\"softmax_w\", [hidden_size_l2, vocab_size]) #[200x1000]\n",
    "softmax_b = tf.get_variable(\"softmax_b\", [vocab_size]) #[1x1000]\n",
    "logits = tf.matmul(output, softmax_w) + softmax_b\n",
    "prob = tf.nn.softmax(logits)"
   ]
  },
  {
   "cell_type": "markdown",
   "metadata": {},
   "source": [
    "Lets look at the probability of observing words for t=0 to t=20:"
   ]
  },
  {
   "cell_type": "code",
   "execution_count": 27,
   "metadata": {
    "button": false,
    "new_sheet": false,
    "run_control": {
     "read_only": false
    }
   },
   "outputs": [
    {
     "name": "stdout",
     "output_type": "stream",
     "text": [
      "shape of the output:  (1200, 10000)\n",
      "The probability of observing words in t=0 to t=20 [[1.00500023e-04 1.00905905e-04 9.93039430e-05 ... 9.90849003e-05\n",
      "  1.01411766e-04 9.85069419e-05]\n",
      " [1.00493417e-04 1.00905178e-04 9.93012000e-05 ... 9.90906992e-05\n",
      "  1.01415302e-04 9.84983417e-05]\n",
      " [1.00499041e-04 1.00910431e-04 9.93134381e-05 ... 9.90942208e-05\n",
      "  1.01413811e-04 9.84965009e-05]\n",
      " ...\n",
      " [1.00511374e-04 1.00932186e-04 9.93065914e-05 ... 9.90676563e-05\n",
      "  1.01397716e-04 9.85001243e-05]\n",
      " [1.00503967e-04 1.00922509e-04 9.93036228e-05 ... 9.90727422e-05\n",
      "  1.01403719e-04 9.84938597e-05]\n",
      " [1.00493766e-04 1.00912395e-04 9.93064241e-05 ... 9.90684857e-05\n",
      "  1.01403944e-04 9.85036531e-05]]\n"
     ]
    }
   ],
   "source": [
    "session.run(tf.global_variables_initializer())\n",
    "output_words_prob = session.run(prob, feed_dict)\n",
    "print(\"shape of the output: \", output_words_prob.shape)\n",
    "print(\"The probability of observing words in t=0 to t=20\", output_words_prob[0:20])"
   ]
  },
  {
   "cell_type": "markdown",
   "metadata": {
    "button": false,
    "new_sheet": false,
    "run_control": {
     "read_only": false
    }
   },
   "source": [
    "<h3>Prediction</h3>\n",
    "What is the word correspond to the probability output? Lets use the maximum probability:"
   ]
  },
  {
   "cell_type": "code",
   "execution_count": 28,
   "metadata": {
    "button": false,
    "new_sheet": false,
    "run_control": {
     "read_only": false
    }
   },
   "outputs": [
    {
     "data": {
      "text/plain": [
       "array([8603, 8603, 8603, 8603, 8603, 3445, 3445, 3445, 3445, 6893, 6893,\n",
       "       6893, 6893, 6893, 8483, 6565, 6565, 8603, 8603, 8603])"
      ]
     },
     "execution_count": 28,
     "metadata": {},
     "output_type": "execute_result"
    }
   ],
   "source": [
    "np.argmax(output_words_prob[0:20], axis=1)"
   ]
  },
  {
   "cell_type": "markdown",
   "metadata": {
    "button": false,
    "new_sheet": false,
    "run_control": {
     "read_only": false
    }
   },
   "source": [
    "So, what is the ground truth for the first word of first sentence? "
   ]
  },
  {
   "cell_type": "code",
   "execution_count": 29,
   "metadata": {
    "button": false,
    "new_sheet": false,
    "run_control": {
     "read_only": false
    }
   },
   "outputs": [
    {
     "data": {
      "text/plain": [
       "array([9971, 9972, 9974, 9975, 9976, 9980, 9981, 9982, 9983, 9984, 9986,\n",
       "       9987, 9988, 9989, 9991, 9992, 9993, 9994, 9995, 9996], dtype=int32)"
      ]
     },
     "execution_count": 29,
     "metadata": {},
     "output_type": "execute_result"
    }
   ],
   "source": [
    "y[0]"
   ]
  },
  {
   "cell_type": "markdown",
   "metadata": {
    "button": false,
    "new_sheet": false,
    "run_control": {
     "read_only": false
    }
   },
   "source": [
    "Also, you can get it from target tensor, if you want to find the embedding vector:"
   ]
  },
  {
   "cell_type": "code",
   "execution_count": 30,
   "metadata": {
    "button": false,
    "new_sheet": false,
    "run_control": {
     "read_only": false
    }
   },
   "outputs": [
    {
     "data": {
      "text/plain": [
       "array([9971, 9972, 9974, 9975, 9976, 9980, 9981, 9982, 9983, 9984, 9986,\n",
       "       9987, 9988, 9989, 9991, 9992, 9993, 9994, 9995, 9996], dtype=int32)"
      ]
     },
     "execution_count": 30,
     "metadata": {},
     "output_type": "execute_result"
    }
   ],
   "source": [
    "targ = session.run(_targets, feed_dict) \n",
    "targ[0]"
   ]
  },
  {
   "cell_type": "markdown",
   "metadata": {},
   "source": [
    "How similar the predicted words are to the target words?"
   ]
  },
  {
   "cell_type": "markdown",
   "metadata": {
    "button": false,
    "new_sheet": false,
    "run_control": {
     "read_only": false
    }
   },
   "source": [
    "<h4>Objective function</h4>\n",
    "\n",
    "Now we have to define our objective function, to calculate the similarity of predicted values to ground truth, and then, penalize the model with the error. Our objective is to minimize loss function, that is, to minimize the average negative log probability of the target words:\n",
    "\n",
    "$$\\text{loss} = -\\frac{1}{N}\\sum_{i=1}^{N} \\ln p_{\\text{target}_i}$$\n",
    "\n",
    "This function is already implemented and available in TensorFlow through <b>sequence_loss_by_example</b>. It calculates the weighted cross-entropy loss for <b>logits</b> and the <b>target</b> sequence.  \n",
    "\n",
    "The arguments of this function are:  \n",
    "<ul>\n",
    "    <li>logits: List of 2D Tensors of shape [batch_size x num_decoder_symbols].</li>  \n",
    "    <li>targets: List of 1D batch-sized int32 Tensors of the same length as logits.</li>   \n",
    "    <li>weights: List of 1D batch-sized float-Tensors of the same length as logits.</li> \n",
    "</ul>"
   ]
  },
  {
   "cell_type": "code",
   "execution_count": 31,
   "metadata": {
    "button": false,
    "new_sheet": false,
    "run_control": {
     "read_only": false
    }
   },
   "outputs": [],
   "source": [
    "loss = tf.contrib.legacy_seq2seq.sequence_loss_by_example([logits], [tf.reshape(_targets, [-1])],[tf.ones([batch_size * num_steps])])"
   ]
  },
  {
   "cell_type": "markdown",
   "metadata": {
    "button": false,
    "new_sheet": false,
    "run_control": {
     "read_only": false
    }
   },
   "source": [
    "loss is a 1D batch-sized float Tensor [600x1]: The log-perplexity for each sequence. Lets look at the first 10 values of loss:"
   ]
  },
  {
   "cell_type": "code",
   "execution_count": 32,
   "metadata": {
    "button": false,
    "new_sheet": false,
    "run_control": {
     "read_only": false
    }
   },
   "outputs": [
    {
     "data": {
      "text/plain": [
       "array([9.202114 , 9.193127 , 9.2157345, 9.208195 , 9.208843 , 9.194625 ,\n",
       "       9.197793 , 9.209922 , 9.217434 , 9.22715  ], dtype=float32)"
      ]
     },
     "execution_count": 32,
     "metadata": {},
     "output_type": "execute_result"
    }
   ],
   "source": [
    "session.run(loss, feed_dict)[:10]"
   ]
  },
  {
   "cell_type": "markdown",
   "metadata": {},
   "source": [
    "Now, we define loss as average of the losses:"
   ]
  },
  {
   "cell_type": "code",
   "execution_count": 33,
   "metadata": {
    "button": false,
    "new_sheet": false,
    "run_control": {
     "read_only": false
    }
   },
   "outputs": [
    {
     "data": {
      "text/plain": [
       "184.2292"
      ]
     },
     "execution_count": 33,
     "metadata": {},
     "output_type": "execute_result"
    }
   ],
   "source": [
    "cost = tf.reduce_sum(loss) / batch_size\n",
    "session.run(tf.global_variables_initializer())\n",
    "session.run(cost, feed_dict)\n"
   ]
  },
  {
   "cell_type": "markdown",
   "metadata": {
    "button": false,
    "new_sheet": false,
    "run_control": {
     "read_only": false
    }
   },
   "source": [
    "<h3>Training</h3>\n",
    "\n",
    "To do training for our network, we have to take the following steps:\n",
    "<ol>\n",
    "    <li>Define the optimizer.</li>\n",
    "    <li>Extract variables that are trainable.</li>\n",
    "    <li>Calculate the gradients based on the loss function.</li>\n",
    "    <li>Apply the optimizer to the variables/gradients tuple.</li>\n",
    "</ol>"
   ]
  },
  {
   "cell_type": "markdown",
   "metadata": {
    "button": false,
    "new_sheet": false,
    "run_control": {
     "read_only": false
    }
   },
   "source": [
    "<h4>1. Define Optimizer</h4>\n",
    "\n",
    "<b>GradientDescentOptimizer</b> constructs a new gradient descent optimizer. Later, we use constructed <b>optimizer</b> to compute gradients for a loss and apply gradients to variables."
   ]
  },
  {
   "cell_type": "code",
   "execution_count": 34,
   "metadata": {
    "button": false,
    "new_sheet": false,
    "run_control": {
     "read_only": false
    }
   },
   "outputs": [],
   "source": [
    "# Create a variable for the learning rate\n",
    "lr = tf.Variable(0.0, trainable=False)\n",
    "# Create the gradient descent optimizer with our learning rate\n",
    "optimizer = tf.train.GradientDescentOptimizer(lr)"
   ]
  },
  {
   "cell_type": "markdown",
   "metadata": {
    "button": false,
    "new_sheet": false,
    "run_control": {
     "read_only": false
    }
   },
   "source": [
    "\n",
    "<h4>2. Trainable Variables</h4>"
   ]
  },
  {
   "cell_type": "markdown",
   "metadata": {
    "button": false,
    "new_sheet": false,
    "run_control": {
     "read_only": false
    }
   },
   "source": [
    "Defining a variable, if you passed <i>trainable=True</i>, the variable constructor automatically adds new variables to the graph collection <b>GraphKeys.TRAINABLE_VARIABLES</b>. Now, using <i>tf.trainable_variables()</i> you can get all variables created with <b>trainable=True</b>."
   ]
  },
  {
   "cell_type": "code",
   "execution_count": 35,
   "metadata": {
    "button": false,
    "new_sheet": false,
    "run_control": {
     "read_only": false
    }
   },
   "outputs": [
    {
     "data": {
      "text/plain": [
       "[<tf.Variable 'embedding_vocab:0' shape=(10000, 200) dtype=float32_ref>,\n",
       " <tf.Variable 'rnn/multi_rnn_cell/cell_0/basic_lstm_cell/kernel:0' shape=(456, 1024) dtype=float32_ref>,\n",
       " <tf.Variable 'rnn/multi_rnn_cell/cell_0/basic_lstm_cell/bias:0' shape=(1024,) dtype=float32_ref>,\n",
       " <tf.Variable 'rnn/multi_rnn_cell/cell_1/basic_lstm_cell/kernel:0' shape=(384, 512) dtype=float32_ref>,\n",
       " <tf.Variable 'rnn/multi_rnn_cell/cell_1/basic_lstm_cell/bias:0' shape=(512,) dtype=float32_ref>,\n",
       " <tf.Variable 'softmax_w:0' shape=(128, 10000) dtype=float32_ref>,\n",
       " <tf.Variable 'softmax_b:0' shape=(10000,) dtype=float32_ref>]"
      ]
     },
     "execution_count": 35,
     "metadata": {},
     "output_type": "execute_result"
    }
   ],
   "source": [
    "# Get all TensorFlow variables marked as \"trainable\" (i.e. all of them except _lr, which we just created)\n",
    "tvars = tf.trainable_variables()\n",
    "tvars"
   ]
  },
  {
   "cell_type": "markdown",
   "metadata": {
    "button": false,
    "new_sheet": false,
    "run_control": {
     "read_only": false
    }
   },
   "source": [
    "Note: we can find the name and scope of all variables:"
   ]
  },
  {
   "cell_type": "code",
   "execution_count": 36,
   "metadata": {
    "button": false,
    "new_sheet": false,
    "run_control": {
     "read_only": false
    }
   },
   "outputs": [
    {
     "data": {
      "text/plain": [
       "['embedding_vocab:0',\n",
       " 'rnn/multi_rnn_cell/cell_0/basic_lstm_cell/kernel:0',\n",
       " 'rnn/multi_rnn_cell/cell_0/basic_lstm_cell/bias:0',\n",
       " 'rnn/multi_rnn_cell/cell_1/basic_lstm_cell/kernel:0',\n",
       " 'rnn/multi_rnn_cell/cell_1/basic_lstm_cell/bias:0',\n",
       " 'softmax_w:0',\n",
       " 'softmax_b:0']"
      ]
     },
     "execution_count": 36,
     "metadata": {},
     "output_type": "execute_result"
    }
   ],
   "source": [
    "[v.name for v in tvars]"
   ]
  },
  {
   "cell_type": "markdown",
   "metadata": {
    "button": false,
    "new_sheet": false,
    "run_control": {
     "read_only": false
    }
   },
   "source": [
    "<h4>3. Calculate the gradients based on the loss function</h4>"
   ]
  },
  {
   "cell_type": "markdown",
   "metadata": {
    "button": false,
    "new_sheet": false,
    "run_control": {
     "read_only": false
    }
   },
   "source": [
    "<h4>Gradient</h4>:\n",
    "The gradient of a function is the slope of its derivative (line), or in other words, the rate of change of a function. It's a vector (a direction to move) that points in the direction of greatest increase of the function, and calculated by the <b>derivative</b> operation.\n",
    "\n",
    "First lets recall the gradient function using an toy example:\n",
    "$$ z = \\left(2x^2 + 3xy\\right)$$"
   ]
  },
  {
   "cell_type": "code",
   "execution_count": 37,
   "metadata": {
    "button": false,
    "new_sheet": false,
    "run_control": {
     "read_only": false
    }
   },
   "outputs": [
    {
     "data": {
      "text/plain": [
       "8.0"
      ]
     },
     "execution_count": 37,
     "metadata": {},
     "output_type": "execute_result"
    }
   ],
   "source": [
    "var_x = tf.placeholder(tf.float32)\n",
    "var_y = tf.placeholder(tf.float32) \n",
    "func_test = 2.0 * var_x * var_x + 3.0 * var_x * var_y\n",
    "session.run(tf.global_variables_initializer())\n",
    "session.run(func_test, {var_x:1.0,var_y:2.0})"
   ]
  },
  {
   "cell_type": "markdown",
   "metadata": {
    "button": false,
    "new_sheet": false,
    "run_control": {
     "read_only": false
    }
   },
   "source": [
    "The <b>tf.gradients()</b> function allows you to compute the symbolic gradient of one tensor with respect to one or more other tensors—including variables. <b>tf.gradients(func, xs)</b> constructs symbolic partial derivatives of sum of <b>func</b> w.r.t. <i>x</i> in <b>xs</b>. \n",
    "\n",
    "Now, lets look at the derivitive w.r.t. <b>var_x</b>:\n",
    "$$ \\frac{\\partial \\:}{\\partial \\:x}\\left(2x^2 + 3xy\\right) = 4x + 3y $$\n"
   ]
  },
  {
   "cell_type": "code",
   "execution_count": 38,
   "metadata": {
    "button": false,
    "new_sheet": false,
    "run_control": {
     "read_only": false
    }
   },
   "outputs": [
    {
     "data": {
      "text/plain": [
       "[10.0]"
      ]
     },
     "execution_count": 38,
     "metadata": {},
     "output_type": "execute_result"
    }
   ],
   "source": [
    "var_grad = tf.gradients(func_test, [var_x])\n",
    "session.run(var_grad, {var_x:1.0,var_y:2.0})"
   ]
  },
  {
   "cell_type": "markdown",
   "metadata": {
    "button": false,
    "new_sheet": false,
    "run_control": {
     "read_only": false
    }
   },
   "source": [
    "the derivative w.r.t. <b>var_y</b>:\n",
    "$$ \\frac{\\partial \\:}{\\partial \\:x}\\left(2x^2 + 3xy\\right) = 3x $$"
   ]
  },
  {
   "cell_type": "code",
   "execution_count": 39,
   "metadata": {
    "button": false,
    "new_sheet": false,
    "run_control": {
     "read_only": false
    }
   },
   "outputs": [
    {
     "data": {
      "text/plain": [
       "[3.0]"
      ]
     },
     "execution_count": 39,
     "metadata": {},
     "output_type": "execute_result"
    }
   ],
   "source": [
    "var_grad = tf.gradients(func_test, [var_y])\n",
    "session.run(var_grad, {var_x:1.0, var_y:2.0})"
   ]
  },
  {
   "cell_type": "markdown",
   "metadata": {
    "button": false,
    "new_sheet": false,
    "run_control": {
     "read_only": false
    }
   },
   "source": [
    "Now, we can look at gradients w.r.t all variables:"
   ]
  },
  {
   "cell_type": "code",
   "execution_count": 40,
   "metadata": {
    "button": false,
    "new_sheet": false,
    "run_control": {
     "read_only": false
    }
   },
   "outputs": [
    {
     "name": "stdout",
     "output_type": "stream",
     "text": [
      "WARNING:tensorflow:From /opt/conda/lib/python3.7/site-packages/tensorflow/python/ops/array_grad.py:425: to_int32 (from tensorflow.python.ops.math_ops) is deprecated and will be removed in a future version.\n",
      "Instructions for updating:\n",
      "Use tf.cast instead.\n"
     ]
    },
    {
     "data": {
      "text/plain": [
       "[<tensorflow.python.framework.ops.IndexedSlices at 0x7f1db00174e0>,\n",
       " <tf.Tensor 'gradients_2/rnn/while/rnn/multi_rnn_cell/cell_0/basic_lstm_cell/MatMul/Enter_grad/b_acc_3:0' shape=(456, 1024) dtype=float32>,\n",
       " <tf.Tensor 'gradients_2/rnn/while/rnn/multi_rnn_cell/cell_0/basic_lstm_cell/BiasAdd/Enter_grad/b_acc_3:0' shape=(1024,) dtype=float32>,\n",
       " <tf.Tensor 'gradients_2/rnn/while/rnn/multi_rnn_cell/cell_1/basic_lstm_cell/MatMul/Enter_grad/b_acc_3:0' shape=(384, 512) dtype=float32>,\n",
       " <tf.Tensor 'gradients_2/rnn/while/rnn/multi_rnn_cell/cell_1/basic_lstm_cell/BiasAdd/Enter_grad/b_acc_3:0' shape=(512,) dtype=float32>,\n",
       " <tf.Tensor 'gradients_2/MatMul_grad/MatMul_1:0' shape=(128, 10000) dtype=float32>,\n",
       " <tf.Tensor 'gradients_2/add_grad/Reshape_1:0' shape=(10000,) dtype=float32>]"
      ]
     },
     "execution_count": 40,
     "metadata": {},
     "output_type": "execute_result"
    }
   ],
   "source": [
    "tf.gradients(cost, tvars)"
   ]
  },
  {
   "cell_type": "code",
   "execution_count": 41,
   "metadata": {
    "button": false,
    "new_sheet": false,
    "run_control": {
     "read_only": false
    },
    "scrolled": true
   },
   "outputs": [],
   "source": [
    "grad_t_list = tf.gradients(cost, tvars)\n",
    "#sess.run(grad_t_list,feed_dict)"
   ]
  },
  {
   "cell_type": "markdown",
   "metadata": {
    "button": false,
    "new_sheet": false,
    "run_control": {
     "read_only": false
    }
   },
   "source": [
    "\n",
    "\n",
    "\n",
    "now, we have a list of tensors, t-list. We can use it to find clipped tensors. <b>clip_by_global_norm</b> clips values of multiple tensors by the ratio of the sum of their norms.\n",
    "\n",
    "<b>clip_by_global_norm</b> get <i>t-list</i> as input and returns 2 things:\n",
    "<ul>\n",
    "    <li>a list of clipped tensors, so called <i>list_clipped</i></li> \n",
    "    <li>the global norm (global_norm) of all tensors in t_list</li> \n",
    "</ul>"
   ]
  },
  {
   "cell_type": "code",
   "execution_count": 42,
   "metadata": {
    "button": false,
    "new_sheet": false,
    "run_control": {
     "read_only": false
    }
   },
   "outputs": [
    {
     "data": {
      "text/plain": [
       "[<tensorflow.python.framework.ops.IndexedSlices at 0x7f1db00385f8>,\n",
       " <tf.Tensor 'clip_by_global_norm/clip_by_global_norm/_1:0' shape=(456, 1024) dtype=float32>,\n",
       " <tf.Tensor 'clip_by_global_norm/clip_by_global_norm/_2:0' shape=(1024,) dtype=float32>,\n",
       " <tf.Tensor 'clip_by_global_norm/clip_by_global_norm/_3:0' shape=(384, 512) dtype=float32>,\n",
       " <tf.Tensor 'clip_by_global_norm/clip_by_global_norm/_4:0' shape=(512,) dtype=float32>,\n",
       " <tf.Tensor 'clip_by_global_norm/clip_by_global_norm/_5:0' shape=(128, 10000) dtype=float32>,\n",
       " <tf.Tensor 'clip_by_global_norm/clip_by_global_norm/_6:0' shape=(10000,) dtype=float32>]"
      ]
     },
     "execution_count": 42,
     "metadata": {},
     "output_type": "execute_result"
    }
   ],
   "source": [
    "# Define the gradient clipping threshold\n",
    "grads, _ = tf.clip_by_global_norm(grad_t_list, max_grad_norm)\n",
    "grads"
   ]
  },
  {
   "cell_type": "code",
   "execution_count": 43,
   "metadata": {
    "button": false,
    "new_sheet": false,
    "run_control": {
     "read_only": false
    }
   },
   "outputs": [
    {
     "data": {
      "text/plain": [
       "[IndexedSlicesValue(values=array([[-9.6899730e-06,  1.3233236e-05, -2.3287573e-06, ...,\n",
       "         -7.6686583e-06,  7.7722343e-06, -1.5005133e-05],\n",
       "        [-1.0745515e-05,  6.3168395e-06,  2.4743629e-06, ...,\n",
       "          1.0437761e-06,  6.8538170e-06, -7.7299710e-06],\n",
       "        [-8.0290820e-06,  4.1228045e-06, -7.2662538e-06, ...,\n",
       "         -8.7678058e-07, -4.1353314e-06, -1.5376273e-07],\n",
       "        ...,\n",
       "        [-8.3508066e-06, -2.9607254e-06,  3.9533124e-06, ...,\n",
       "         -4.5921051e-06,  3.7895614e-07,  1.8845465e-07],\n",
       "        [-4.6335031e-06, -4.6637419e-06, -2.5651377e-06, ...,\n",
       "         -1.1687333e-05, -3.9426523e-06, -2.9474702e-06],\n",
       "        [-4.4786525e-06, -4.6532268e-06, -1.1207462e-06, ...,\n",
       "         -6.1154697e-06, -8.3636928e-07, -2.0394598e-06]], dtype=float32), indices=array([9970, 9971, 9972, ..., 2043,   23,    1], dtype=int32), dense_shape=array([10000,   200], dtype=int32)),\n",
       " array([[ 1.7097353e-08, -3.1040358e-08,  2.8866975e-10, ...,\n",
       "         -8.2042737e-09,  2.3882462e-08,  5.0590587e-10],\n",
       "        [ 3.7278880e-08,  2.7198295e-08, -8.2714671e-08, ...,\n",
       "          4.9089191e-08, -1.0615243e-08,  1.4228422e-08],\n",
       "        [-2.5032101e-09, -9.7617692e-09, -1.7425034e-08, ...,\n",
       "          1.7523641e-08,  1.8926688e-08, -2.2438790e-08],\n",
       "        ...,\n",
       "        [-3.9033563e-09,  2.6921038e-10, -5.9164740e-10, ...,\n",
       "         -1.5487901e-08,  2.1710505e-09,  1.6722749e-09],\n",
       "        [ 2.5278597e-09,  2.5904245e-09,  3.1365848e-09, ...,\n",
       "         -4.2020037e-10,  6.3264669e-09, -4.9729321e-10],\n",
       "        [-6.1602634e-09,  2.6478801e-09, -3.5600904e-09, ...,\n",
       "          3.4797945e-09,  1.3385152e-09, -4.5145274e-09]], dtype=float32),\n",
       " array([ 1.0168185e-07,  1.9482770e-06, -1.2406981e-06, ...,\n",
       "        -1.8553696e-06, -8.4239588e-08,  1.5332465e-06], dtype=float32),\n",
       " array([[ 9.8967057e-09,  4.5548565e-11,  2.1957764e-09, ...,\n",
       "          5.7267284e-09,  3.9206118e-09, -9.0121128e-09],\n",
       "        [ 5.8572391e-09,  2.1029445e-09,  2.2728536e-10, ...,\n",
       "          1.0308356e-09, -1.9391746e-09, -7.3671211e-09],\n",
       "        [-3.1443617e-09, -2.1714470e-09, -9.3213286e-09, ...,\n",
       "         -5.3391119e-10,  2.1246869e-09, -3.3372047e-09],\n",
       "        ...,\n",
       "        [ 3.2737196e-10, -2.7273137e-09, -2.4479149e-10, ...,\n",
       "         -1.8357051e-09,  1.7128291e-09,  7.4041145e-10],\n",
       "        [ 7.3062856e-10, -1.9276887e-09,  6.9430600e-10, ...,\n",
       "         -7.6353840e-10, -1.9495259e-09,  1.3778198e-10],\n",
       "        [ 1.4038332e-09,  5.6192923e-10,  1.1081158e-09, ...,\n",
       "         -1.4037607e-09,  1.1969776e-09,  2.6551694e-09]], dtype=float32),\n",
       " array([ 3.47062632e-06, -3.73417424e-06,  3.36956759e-06,  1.07921676e-06,\n",
       "         3.45228545e-06,  2.71684439e-06,  3.14807767e-06, -5.48105800e-06,\n",
       "        -5.43658552e-06,  4.15273121e-07, -6.45717228e-06,  9.87951125e-08,\n",
       "        -2.69682187e-06, -1.93312667e-06, -3.34537822e-06,  4.10513530e-06,\n",
       "        -2.99569228e-06, -3.42262729e-06, -4.16253556e-07,  2.42929218e-06,\n",
       "         4.05273795e-06, -2.65375434e-06,  4.23254278e-07,  1.16817228e-06,\n",
       "        -3.78991132e-08,  1.09322389e-06,  2.21029745e-06, -3.86105512e-08,\n",
       "         7.12549172e-06, -2.19231310e-06,  6.56512930e-06,  2.29694820e-06,\n",
       "         4.80588415e-06, -7.76102809e-07,  1.16663145e-07,  3.94043900e-06,\n",
       "        -3.20250410e-06, -3.44064642e-06, -1.67885901e-06, -1.88684362e-06,\n",
       "        -7.27692452e-07, -4.38484494e-06, -4.10707617e-06,  1.19012884e-05,\n",
       "        -4.62853131e-06,  6.04867751e-07,  3.64032530e-06, -2.06226218e-06,\n",
       "         1.25601609e-05,  3.66611448e-06,  5.26846179e-06,  3.27352291e-06,\n",
       "        -6.44621082e-07,  7.53652512e-06,  5.91631760e-06, -2.68300596e-06,\n",
       "         6.73817067e-06,  4.27216992e-06, -1.22636845e-06,  4.31287958e-07,\n",
       "        -2.26569682e-06, -6.08283517e-06, -3.64983998e-06, -3.43076522e-06,\n",
       "         2.04609546e-06, -5.34570381e-06,  3.80248230e-06, -5.80551205e-06,\n",
       "         2.85928058e-06, -5.93947618e-07, -2.97625229e-06,  4.38612960e-06,\n",
       "        -1.92974881e-06,  3.10092787e-06, -2.01866783e-06, -4.03627018e-06,\n",
       "        -7.22942787e-07,  1.08959148e-06, -3.89760203e-07, -1.99094552e-06,\n",
       "         1.13576812e-06,  3.18924458e-06, -2.50049243e-06,  9.76567890e-07,\n",
       "        -4.42024384e-06, -3.00088755e-06,  2.52244854e-06,  4.28745670e-06,\n",
       "         4.74770695e-06,  2.58477553e-06,  2.32602656e-06,  1.92673019e-06,\n",
       "        -1.34914217e-05, -1.42641727e-06,  2.32644197e-07,  5.63616140e-06,\n",
       "         1.81016264e-06, -4.64012419e-06, -7.42628208e-06, -3.24325833e-06,\n",
       "        -1.27682199e-06, -2.42185092e-06, -3.79525886e-06, -6.55529948e-06,\n",
       "         2.44329703e-06, -3.44795012e-07,  3.90391369e-06, -7.65593359e-06,\n",
       "         1.55026987e-06, -8.26290147e-07,  3.67008596e-07,  2.21146547e-06,\n",
       "        -4.22597805e-06, -1.61129924e-06, -3.79624339e-06,  1.26106318e-06,\n",
       "        -1.94885757e-07,  2.25572239e-06,  1.96497894e-07,  2.67839664e-06,\n",
       "         1.77906975e-06, -1.06256095e-07, -2.39586780e-06, -2.69943189e-06,\n",
       "         3.05094773e-06,  7.91772550e-07,  3.40270981e-06,  4.05202582e-06,\n",
       "        -2.94303875e-02,  1.05232345e-02,  1.22008948e-02, -2.96796090e-03,\n",
       "         1.27772642e-02,  6.07242715e-03,  2.78193410e-03, -1.05672367e-02,\n",
       "        -4.51005390e-03, -8.76778550e-03,  1.84995588e-02,  2.06838478e-03,\n",
       "         1.78939924e-02, -8.94866325e-03, -1.37459328e-02,  3.41178030e-02,\n",
       "        -1.55058699e-02, -1.10631632e-02,  1.00898640e-02,  3.28100435e-02,\n",
       "         1.51168732e-02,  7.14692799e-03, -1.36440787e-02,  9.89218056e-03,\n",
       "        -2.12432481e-02,  1.08692460e-02,  1.82348862e-02,  5.42214839e-03,\n",
       "         2.11519189e-02,  2.50640232e-03, -3.31833363e-02,  1.72118228e-02,\n",
       "        -1.03439223e-02,  1.72628276e-02,  1.59732848e-02,  2.30645705e-02,\n",
       "        -1.09036791e-03, -5.05108247e-03, -8.64362170e-04,  1.12592969e-02,\n",
       "         1.14680044e-02, -1.46582453e-02, -1.28789153e-02,  1.35920150e-03,\n",
       "        -1.49056343e-02, -1.32534336e-02,  2.49077957e-02, -1.17225349e-02,\n",
       "         3.45821120e-02, -8.98732804e-03,  1.67931933e-02, -3.06409027e-04,\n",
       "         6.69007422e-03, -2.49434728e-02, -5.73590770e-03, -1.37441875e-02,\n",
       "        -7.46750645e-03,  9.50026605e-03,  5.47992298e-03,  1.57388411e-02,\n",
       "        -6.24651136e-03, -2.90483087e-02, -6.52718311e-03,  2.24126671e-02,\n",
       "        -2.03130916e-02, -7.24456273e-03, -1.12707145e-03, -2.44954223e-04,\n",
       "        -3.17889964e-03,  6.77780993e-03, -1.73134282e-02,  2.07767216e-03,\n",
       "         1.81084815e-02, -1.26569439e-02, -1.14587946e-02,  2.17566397e-02,\n",
       "         3.51584912e-03,  1.50927119e-02, -3.23938690e-02, -1.21063851e-02,\n",
       "        -7.69151654e-03,  2.41037235e-02,  2.32234169e-02,  2.19387691e-02,\n",
       "         6.42262259e-03,  3.74247436e-03, -7.43372925e-03, -8.78573768e-03,\n",
       "        -2.91529782e-02,  2.98389932e-03, -8.05943832e-03,  9.84717533e-03,\n",
       "         1.67399310e-02,  5.66459307e-03, -1.12915821e-02,  2.05699168e-03,\n",
       "        -1.60025768e-02,  1.88452713e-02,  3.43426280e-02,  9.69694834e-03,\n",
       "         8.40005651e-03, -2.22465466e-03, -2.30985805e-02,  1.42154023e-02,\n",
       "         2.15974264e-02,  1.02724405e-02, -1.13411322e-02, -3.20910402e-02,\n",
       "         2.17273645e-02, -1.88825168e-02,  7.80898146e-03, -2.28889193e-02,\n",
       "        -1.08659687e-02, -1.68021377e-02,  6.57336414e-03, -1.43767532e-03,\n",
       "         9.28476825e-03,  2.07346980e-03,  6.43485226e-03,  9.80537198e-03,\n",
       "        -1.84125965e-04, -3.00609674e-02, -3.18604778e-03,  2.07499992e-02,\n",
       "        -3.07822949e-03, -9.69294738e-03, -2.58284993e-03,  6.44844258e-05,\n",
       "         1.64957555e-06, -2.09040581e-06,  4.53756002e-06,  7.42886982e-07,\n",
       "         5.96020709e-06,  9.77609943e-07,  1.65041138e-06, -4.74366607e-06,\n",
       "        -2.32886805e-06,  2.11374208e-06, -5.46981983e-06,  1.28910085e-06,\n",
       "        -1.53051656e-06, -1.09240727e-06, -9.63629532e-07,  2.31311333e-06,\n",
       "        -2.88732758e-06, -5.82900930e-06,  3.01281887e-07, -1.14492508e-07,\n",
       "         1.00089881e-06, -1.06601465e-06,  1.35538608e-06,  1.11899215e-06,\n",
       "         3.19230207e-06,  1.72824983e-07,  6.54002065e-07, -3.93871204e-07,\n",
       "         4.11547308e-06, -1.22912388e-06,  7.02904981e-06,  2.86569139e-06,\n",
       "        -9.03223054e-07, -3.40536349e-06,  3.66622800e-07,  3.41833629e-06,\n",
       "        -3.57894851e-06, -2.72747457e-06,  5.18859451e-07, -1.65595088e-06,\n",
       "        -2.02962497e-07, -4.52949644e-06, -3.78675645e-06,  6.82298469e-06,\n",
       "        -6.21937943e-06,  4.55547138e-07,  4.05241917e-06, -6.85457962e-07,\n",
       "         1.23994105e-05,  4.01744092e-06,  2.22018821e-06,  2.11667452e-06,\n",
       "        -5.36914570e-07,  6.59837588e-06,  1.35266396e-06, -9.65661116e-07,\n",
       "         3.02264880e-06,  2.73811793e-06,  3.37986705e-09, -9.93005187e-07,\n",
       "        -2.69917365e-07, -4.17551837e-06, -1.23540588e-07, -1.40938994e-06,\n",
       "         1.21687049e-06, -4.70695250e-06,  9.34232560e-07, -3.30019657e-06,\n",
       "        -1.53946701e-06, -1.85248746e-06, -1.00310365e-06,  5.05963817e-06,\n",
       "        -3.51084009e-06,  2.03543823e-06, -9.83915697e-07, -4.57413671e-06,\n",
       "         1.42759711e-06,  1.15982471e-06,  1.93341430e-06, -1.77944912e-06,\n",
       "        -2.07989785e-08,  4.88114438e-06, -2.70675855e-06,  1.61982871e-06,\n",
       "        -1.03822265e-06,  1.29038040e-06,  2.80708673e-06,  2.12979603e-06,\n",
       "         5.07104369e-06,  1.64738367e-06,  1.07533560e-06,  2.09473546e-06,\n",
       "        -1.35987930e-05, -2.33608966e-06, -3.39767695e-07,  4.72399870e-06,\n",
       "         4.90594402e-06, -3.53351379e-06, -5.57972180e-06, -1.35811263e-06,\n",
       "        -8.74839827e-07,  1.51475979e-06,  1.06300035e-07, -5.78652271e-06,\n",
       "        -7.87276917e-07, -5.59733508e-07,  3.23649328e-06, -8.37808420e-06,\n",
       "         9.32281694e-07,  7.12645033e-07, -3.89525758e-06,  1.39281633e-06,\n",
       "        -2.82369638e-06, -9.92006562e-07, -3.39086250e-06,  2.43321188e-06,\n",
       "        -3.95661982e-06, -6.78309277e-07, -1.20124639e-06, -8.47861486e-07,\n",
       "         1.75655464e-06,  1.02023478e-06,  1.01870819e-06, -7.15695450e-08,\n",
       "         4.57935539e-06,  1.35088669e-06,  2.11882752e-06,  1.23502105e-06,\n",
       "         3.47338914e-06, -3.73530588e-06,  3.36546668e-06,  1.07509334e-06,\n",
       "         3.45343301e-06,  2.71482850e-06,  3.14261251e-06, -5.48364960e-06,\n",
       "        -5.43788065e-06,  4.17011677e-07, -6.45137197e-06,  1.02762243e-07,\n",
       "        -2.69721158e-06, -1.93116193e-06, -3.34520428e-06,  4.10141001e-06,\n",
       "        -2.99837075e-06, -3.42109797e-06, -4.12041857e-07,  2.43198610e-06,\n",
       "         4.04986713e-06, -2.65768745e-06,  4.20482479e-07,  1.17176637e-06,\n",
       "        -4.21193320e-08,  1.09457346e-06,  2.21094433e-06, -3.73639182e-08,\n",
       "         7.12001247e-06, -2.19385356e-06,  6.56578959e-06,  2.29972466e-06,\n",
       "         4.80693461e-06, -7.68701398e-07,  1.17181379e-07,  3.93719529e-06,\n",
       "        -3.20380718e-06, -3.43889906e-06, -1.68093857e-06, -1.89106913e-06,\n",
       "        -7.30926331e-07, -4.38374536e-06, -4.10237453e-06,  1.19003535e-05,\n",
       "        -4.62797334e-06,  5.97001531e-07,  3.64070229e-06, -2.06423988e-06,\n",
       "         1.25655415e-05,  3.66623021e-06,  5.26672056e-06,  3.27375301e-06,\n",
       "        -6.44563443e-07,  7.53549239e-06,  5.91669323e-06, -2.67784912e-06,\n",
       "         6.73476461e-06,  4.27213536e-06, -1.22693348e-06,  4.30259973e-07,\n",
       "        -2.26106658e-06, -6.08969458e-06, -3.64868470e-06, -3.43091551e-06,\n",
       "         2.04096909e-06, -5.34022092e-06,  3.80608253e-06, -5.80367850e-06,\n",
       "         2.85796978e-06, -5.95199594e-07, -2.97865472e-06,  4.39156611e-06,\n",
       "        -1.93128244e-06,  3.10130281e-06, -2.02013325e-06, -4.02933028e-06,\n",
       "        -7.20807009e-07,  1.08956135e-06, -3.89609568e-07, -1.99659598e-06,\n",
       "         1.13837768e-06,  3.18968159e-06, -2.50000653e-06,  9.75231842e-07,\n",
       "        -4.42839337e-06, -3.00395595e-06,  2.52287555e-06,  4.28409294e-06,\n",
       "         4.74327044e-06,  2.58087698e-06,  2.32584989e-06,  1.92866969e-06,\n",
       "        -1.34944148e-05, -1.42164504e-06,  2.24502742e-07,  5.63926278e-06,\n",
       "         1.81213045e-06, -4.63860397e-06, -7.43017881e-06, -3.24193525e-06,\n",
       "        -1.27463136e-06, -2.43267255e-06, -3.79368112e-06, -6.55668964e-06,\n",
       "         2.44177795e-06, -3.45097220e-07,  3.90648711e-06, -7.66334597e-06,\n",
       "         1.55257692e-06, -8.29294208e-07,  3.71119853e-07,  2.21307073e-06,\n",
       "        -4.22746416e-06, -1.61482319e-06, -3.79546168e-06,  1.26127645e-06,\n",
       "        -1.90651605e-07,  2.25270901e-06,  1.90758755e-07,  2.67573932e-06,\n",
       "         1.78093626e-06, -1.14907323e-07, -2.39371320e-06, -2.70068904e-06,\n",
       "         3.05214439e-06,  7.93269919e-07,  3.40347788e-06,  4.05281116e-06],\n",
       "       dtype=float32),\n",
       " array([[-7.2063660e-05,  1.6968332e-05,  1.9809613e-05, ...,\n",
       "          5.4917166e-08,  5.5584103e-08,  5.5589503e-08],\n",
       "        [ 3.3253637e-05,  2.3804384e-04,  1.5612680e-04, ...,\n",
       "         -3.6745038e-07, -3.7155809e-07, -3.7187971e-07],\n",
       "        [-3.2998671e-04, -4.1009975e-04, -1.1714909e-04, ...,\n",
       "          5.6715737e-07,  5.7357568e-07,  5.7405867e-07],\n",
       "        ...,\n",
       "        [ 9.4564439e-07, -2.3417042e-05, -6.2828782e-05, ...,\n",
       "          8.6021657e-08,  8.6962636e-08,  8.7052122e-08],\n",
       "        [-1.1672467e-04, -5.0635212e-05,  5.2831674e-05, ...,\n",
       "          1.5292161e-07,  1.5460999e-07,  1.5478548e-07],\n",
       "        [ 1.2293545e-04,  2.5304806e-05,  3.5954650e-05, ...,\n",
       "         -6.3395742e-09, -6.4511738e-09, -6.4963732e-09]], dtype=float32),\n",
       " array([-0.78131646, -1.0980115 , -0.98132867, ...,  0.00199313,\n",
       "         0.00201553,  0.00201742], dtype=float32)]"
      ]
     },
     "execution_count": 43,
     "metadata": {},
     "output_type": "execute_result"
    }
   ],
   "source": [
    "session.run(grads, feed_dict)"
   ]
  },
  {
   "cell_type": "markdown",
   "metadata": {
    "button": false,
    "new_sheet": false,
    "run_control": {
     "read_only": false
    }
   },
   "source": [
    "<h4>4. Apply the optimizer to the variables / gradients tuple.</h4>"
   ]
  },
  {
   "cell_type": "code",
   "execution_count": 44,
   "metadata": {
    "button": false,
    "new_sheet": false,
    "run_control": {
     "read_only": false
    }
   },
   "outputs": [],
   "source": [
    "# Create the training TensorFlow Operation through our optimizer\n",
    "train_op = optimizer.apply_gradients(zip(grads, tvars))"
   ]
  },
  {
   "cell_type": "code",
   "execution_count": 45,
   "metadata": {
    "button": false,
    "new_sheet": false,
    "run_control": {
     "read_only": false
    }
   },
   "outputs": [],
   "source": [
    "session.run(tf.global_variables_initializer())\n",
    "session.run(train_op, feed_dict)"
   ]
  },
  {
   "cell_type": "markdown",
   "metadata": {},
   "source": [
    "<a id=\"ltsm\"></a>\n",
    "<h2>LSTM</h2>"
   ]
  },
  {
   "cell_type": "markdown",
   "metadata": {
    "button": false,
    "new_sheet": false,
    "run_control": {
     "read_only": false
    }
   },
   "source": [
    "We learned how the model is build step by step. Noe, let's then create a Class that represents our model. This class needs a few things:\n",
    "<ul>\n",
    "    <li>We have to create the model in accordance with our defined hyperparameters</li>\n",
    "    <li>We have to create the placeholders for our input data and expected outputs (the real data)</li>\n",
    "    <li>We have to create the LSTM cell structure and connect them with our RNN structure</li>\n",
    "    <li>We have to create the word embeddings and point them to the input data</li>\n",
    "    <li>We have to create the input structure for our RNN</li>\n",
    "    <li>We have to instantiate our RNN model and retrieve the variable in which we should expect our outputs to appear</li>\n",
    "    <li>We need to create a logistic structure to return the probability of our words</li>\n",
    "    <li>We need to create the loss and cost functions for our optimizer to work, and then create the optimizer</li>\n",
    "    <li>And finally, we need to create a training operation that can be run to actually train our model</li>\n",
    "</ul>"
   ]
  },
  {
   "cell_type": "code",
   "execution_count": 46,
   "metadata": {},
   "outputs": [
    {
     "data": {
      "text/plain": [
       "256"
      ]
     },
     "execution_count": 46,
     "metadata": {},
     "output_type": "execute_result"
    }
   ],
   "source": [
    "hidden_size_l1"
   ]
  },
  {
   "cell_type": "code",
   "execution_count": 50,
   "metadata": {
    "button": false,
    "new_sheet": false,
    "run_control": {
     "read_only": false
    }
   },
   "outputs": [],
   "source": [
    "class PTBModel(object):\n",
    "\n",
    "    def __init__(self, action_type):\n",
    "        ######################################\n",
    "        # Setting parameters for ease of use #\n",
    "        ######################################\n",
    "        self.batch_size = batch_size\n",
    "        self.num_steps = num_steps\n",
    "        self.hidden_size_l1 = hidden_size_l1\n",
    "        self.hidden_size_l2 = hidden_size_l2\n",
    "        self.vocab_size = vocab_size\n",
    "        self.embeding_vector_size = embeding_vector_size\n",
    "        ###############################################################################\n",
    "        # Creating placeholders for our input data and expected outputs (target data) #\n",
    "        ###############################################################################\n",
    "        self._input_data = tf.placeholder(tf.int32, [batch_size, num_steps]) #[30#20]\n",
    "        self._targets = tf.placeholder(tf.int32, [batch_size, num_steps]) #[30#20]\n",
    "\n",
    "        ##########################################################################\n",
    "        # Creating the LSTM cell structure and connect it with the RNN structure #\n",
    "        ##########################################################################\n",
    "        # Create the LSTM unit. \n",
    "        # This creates only the structure for the LSTM and has to be associated with a RNN unit still.\n",
    "        # The argument n_hidden(size=200) of BasicLSTMCell is size of hidden layer, that is, the number of hidden units of the LSTM (inside A).\n",
    "        # Size is the same as the size of our hidden layer, and no bias is added to the Forget Gate. \n",
    "        # LSTM cell processes one word at a time and computes probabilities of the possible continuations of the sentence.\n",
    "        lstm_cell_l1 = tf.contrib.rnn.BasicLSTMCell(self.hidden_size_l1, forget_bias=0.0)\n",
    "        lstm_cell_l2 = tf.contrib.rnn.BasicLSTMCell(self.hidden_size_l2, forget_bias=0.0)\n",
    "        \n",
    "        # Unless you changed keep_prob, this won't actually execute -- this is a dropout wrapper for our LSTM unit\n",
    "        # This is an optimization of the LSTM output, but is not needed at all\n",
    "        if action_type == \"is_training\" and keep_prob < 1:\n",
    "            lstm_cell_l1 = tf.contrib.rnn.DropoutWrapper(lstm_cell_l1, output_keep_prob=keep_prob)\n",
    "            lstm_cell_l2 = tf.contrib.rnn.DropoutWrapper(lstm_cell_l2, output_keep_prob=keep_prob)\n",
    "        \n",
    "        # By taking in the LSTM cells as parameters, the MultiRNNCell function junctions the LSTM units to the RNN units.\n",
    "        # RNN cell composed sequentially of multiple simple cells.\n",
    "        stacked_lstm = tf.contrib.rnn.MultiRNNCell([lstm_cell_l1, lstm_cell_l2])\n",
    "\n",
    "        # Define the initial state, i.e., the model state for the very first data point\n",
    "        # It initialize the state of the LSTM memory. The memory state of the network is initialized with a vector of zeros and gets updated after reading each word.\n",
    "        self._initial_state = stacked_lstm.zero_state(batch_size, tf.float32)\n",
    "\n",
    "        ####################################################################\n",
    "        # Creating the word embeddings and pointing them to the input data #\n",
    "        ####################################################################\n",
    "        with tf.device(\"/cpu:0\"):\n",
    "            # Create the embeddings for our input data. Size is hidden size.\n",
    "            embedding = tf.get_variable(\"embedding\", [vocab_size, self.embeding_vector_size])  #[10000x200]\n",
    "            # Define where to get the data for our embeddings from\n",
    "            inputs = tf.nn.embedding_lookup(embedding, self._input_data)\n",
    "\n",
    "        # Unless you changed keep_prob, this won't actually execute -- this is a dropout addition for our inputs\n",
    "        # This is an optimization of the input processing and is not needed at all\n",
    "        if action_type == \"is_training\" and keep_prob < 1:\n",
    "            inputs = tf.nn.dropout(inputs, keep_prob)\n",
    "\n",
    "        ############################################\n",
    "        # Creating the input structure for our RNN #\n",
    "        ############################################\n",
    "        # Input structure is 20x[30x200]\n",
    "        # Considering each word is represended by a 200 dimentional vector, and we have 30 batchs, we create 30 word-vectors of size [30xx2000]\n",
    "        # inputs = [tf.squeeze(input_, [1]) for input_ in tf.split(1, num_steps, inputs)]\n",
    "        # The input structure is fed from the embeddings, which are filled in by the input data\n",
    "        # Feeding a batch of b sentences to a RNN:\n",
    "        # In step 1,  first word of each of the b sentences (in a batch) is input in parallel.  \n",
    "        # In step 2,  second word of each of the b sentences is input in parallel. \n",
    "        # The parallelism is only for efficiency.  \n",
    "        # Each sentence in a batch is handled in parallel, but the network sees one word of a sentence at a time and does the computations accordingly. \n",
    "        # All the computations involving the words of all sentences in a batch at a given time step are done in parallel. \n",
    "\n",
    "        ####################################################################################################\n",
    "        # Instantiating our RNN model and retrieving the structure for returning the outputs and the state #\n",
    "        ####################################################################################################\n",
    "        \n",
    "        outputs, state = tf.nn.dynamic_rnn(stacked_lstm, inputs, initial_state=self._initial_state)\n",
    "        #########################################################################\n",
    "        # Creating a logistic unit to return the probability of the output word #\n",
    "        #########################################################################\n",
    "        output = tf.reshape(outputs, [-1, self.hidden_size_l2])\n",
    "        softmax_w = tf.get_variable(\"softmax_w\", [self.hidden_size_l2, vocab_size]) #[200x1000]\n",
    "        softmax_b = tf.get_variable(\"softmax_b\", [vocab_size]) #[1x1000]\n",
    "        logits = tf.matmul(output, softmax_w) + softmax_b\n",
    "        logits = tf.reshape(logits, [self.batch_size, self.num_steps, vocab_size])\n",
    "        prob = tf.nn.softmax(logits)\n",
    "        out_words = tf.argmax(prob, axis=2)\n",
    "        self._output_words = out_words\n",
    "        #########################################################################\n",
    "        # Defining the loss and cost functions for the model's learning to work #\n",
    "        #########################################################################\n",
    "            \n",
    "\n",
    "        # Use the contrib sequence loss and average over the batches\n",
    "        loss = tf.contrib.seq2seq.sequence_loss(\n",
    "            logits,\n",
    "            self.targets,\n",
    "            tf.ones([batch_size, num_steps], dtype=tf.float32),\n",
    "            average_across_timesteps=False,\n",
    "            average_across_batch=True)\n",
    "    \n",
    "#         loss = tf.contrib.legacy_seq2seq.sequence_loss_by_example([logits], [tf.reshape(self._targets, [-1])],\n",
    "#                                                       [tf.ones([batch_size * num_steps])])\n",
    "        self._cost = tf.reduce_sum(loss)\n",
    "\n",
    "        # Store the final state\n",
    "        self._final_state = state\n",
    "\n",
    "        #Everything after this point is relevant only for training\n",
    "        if action_type != \"is_training\":\n",
    "            return\n",
    "\n",
    "        #################################################\n",
    "        # Creating the Training Operation for our Model #\n",
    "        #################################################\n",
    "        # Create a variable for the learning rate\n",
    "        self._lr = tf.Variable(0.0, trainable=False)\n",
    "        # Get all TensorFlow variables marked as \"trainable\" (i.e. all of them except _lr, which we just created)\n",
    "        tvars = tf.trainable_variables()\n",
    "        # Define the gradient clipping threshold\n",
    "        grads, _ = tf.clip_by_global_norm(tf.gradients(self._cost, tvars), max_grad_norm)\n",
    "        # Create the gradient descent optimizer with our learning rate\n",
    "        optimizer = tf.train.GradientDescentOptimizer(self.lr)\n",
    "        # Create the training TensorFlow Operation through our optimizer\n",
    "        self._train_op = optimizer.apply_gradients(zip(grads, tvars))\n",
    "\n",
    "    # Helper functions for our LSTM RNN class\n",
    "\n",
    "    # Assign the learning rate for this model\n",
    "    def assign_lr(self, session, lr_value):\n",
    "        session.run(tf.assign(self.lr, lr_value))\n",
    "\n",
    "    # Returns the input data for this model at a point in time\n",
    "    @property\n",
    "    def input_data(self):\n",
    "        return self._input_data\n",
    "\n",
    "\n",
    "    \n",
    "    # Returns the targets for this model at a point in time\n",
    "    @property\n",
    "    def targets(self):\n",
    "        return self._targets\n",
    "\n",
    "    # Returns the initial state for this model\n",
    "    @property\n",
    "    def initial_state(self):\n",
    "        return self._initial_state\n",
    "\n",
    "    # Returns the defined Cost\n",
    "    @property\n",
    "    def cost(self):\n",
    "        return self._cost\n",
    "\n",
    "    # Returns the final state for this model\n",
    "    @property\n",
    "    def final_state(self):\n",
    "        return self._final_state\n",
    "    \n",
    "    # Returns the final output words for this model\n",
    "    @property\n",
    "    def final_output_words(self):\n",
    "        return self._output_words\n",
    "    \n",
    "    # Returns the current learning rate for this model\n",
    "    @property\n",
    "    def lr(self):\n",
    "        return self._lr\n",
    "\n",
    "    # Returns the training operation defined for this model\n",
    "    @property\n",
    "    def train_op(self):\n",
    "        return self._train_op"
   ]
  },
  {
   "cell_type": "markdown",
   "metadata": {
    "button": false,
    "new_sheet": false,
    "run_control": {
     "read_only": false
    }
   },
   "source": [
    "With that, the actual structure of our Recurrent Neural Network with Long Short-Term Memory is finished. What remains for us to do is to actually create the methods to run through time -- that is, the <code>run_epoch</code> method to be run at each epoch and a <code>main</code> script which ties all of this together.\n",
    "\n",
    "What our <code>run_epoch</code> method should do is take our input data and feed it to the relevant operations. This will return at the very least the current result for the cost function."
   ]
  },
  {
   "cell_type": "code",
   "execution_count": 51,
   "metadata": {
    "button": false,
    "new_sheet": false,
    "run_control": {
     "read_only": false
    }
   },
   "outputs": [],
   "source": [
    "##########################################################################################################################\n",
    "# run_one_epoch takes as parameters the current session, the model instance, the data to be fed, and the operation to be run #\n",
    "##########################################################################################################################\n",
    "def run_one_epoch(session, m, data, eval_op, verbose=False):\n",
    "\n",
    "    #Define the epoch size based on the length of the data, batch size and the number of steps\n",
    "    epoch_size = ((len(data) // m.batch_size) - 1) // m.num_steps\n",
    "    start_time = time.time()\n",
    "    costs = 0.0\n",
    "    iters = 0\n",
    "\n",
    "    state = session.run(m.initial_state)\n",
    "    \n",
    "    #For each step and data point\n",
    "    for step, (x, y) in enumerate(reader.ptb_iterator(data, m.batch_size, m.num_steps)):\n",
    "        \n",
    "        #Evaluate and return cost, state by running cost, final_state and the function passed as parameter\n",
    "        cost, state, out_words, _ = session.run([m.cost, m.final_state, m.final_output_words, eval_op],\n",
    "                                     {m.input_data: x,\n",
    "                                      m.targets: y,\n",
    "                                      m.initial_state: state})\n",
    "\n",
    "        #Add returned cost to costs (which keeps track of the total costs for this epoch)\n",
    "        costs += cost\n",
    "        \n",
    "        #Add number of steps to iteration counter\n",
    "        iters += m.num_steps\n",
    "\n",
    "        if verbose and step % (epoch_size // 10) == 10:\n",
    "            print(\"Itr %d of %d, perplexity: %.3f speed: %.0f wps\" % (step , epoch_size, np.exp(costs / iters), iters * m.batch_size / (time.time() - start_time)))\n",
    "\n",
    "    # Returns the Perplexity rating for us to keep track of how the model is evolving\n",
    "    return np.exp(costs / iters)\n"
   ]
  },
  {
   "cell_type": "markdown",
   "metadata": {
    "button": false,
    "new_sheet": false,
    "run_control": {
     "read_only": false
    }
   },
   "source": [
    "Now, we create the <code>main</code> method to tie everything together. The code here reads the data from the directory, using the <code>reader</code> helper module, and then trains and evaluates the model on both a testing and a validating subset of data."
   ]
  },
  {
   "cell_type": "code",
   "execution_count": 52,
   "metadata": {
    "button": false,
    "new_sheet": false,
    "run_control": {
     "read_only": false
    }
   },
   "outputs": [],
   "source": [
    "# Reads the data and separates it into training data, validation data and testing data\n",
    "raw_data = reader.ptb_raw_data(data_dir)\n",
    "train_data, valid_data, test_data, _, _ = raw_data"
   ]
  },
  {
   "cell_type": "code",
   "execution_count": 53,
   "metadata": {
    "button": false,
    "new_sheet": false,
    "run_control": {
     "read_only": false
    }
   },
   "outputs": [
    {
     "name": "stdout",
     "output_type": "stream",
     "text": [
      "Epoch 1 : Learning rate: 1.000\n",
      "Itr 10 of 774, perplexity: 3768.463 speed: 1767 wps\n",
      "Itr 87 of 774, perplexity: 1252.069 speed: 1821 wps\n",
      "Itr 164 of 774, perplexity: 969.305 speed: 1835 wps\n",
      "Itr 241 of 774, perplexity: 807.673 speed: 1840 wps\n",
      "Itr 318 of 774, perplexity: 715.157 speed: 1843 wps\n",
      "Itr 395 of 774, perplexity: 639.518 speed: 1845 wps\n",
      "Itr 472 of 774, perplexity: 579.349 speed: 1845 wps\n",
      "Itr 549 of 774, perplexity: 526.008 speed: 1846 wps\n",
      "Itr 626 of 774, perplexity: 483.454 speed: 1846 wps\n",
      "Itr 703 of 774, perplexity: 450.001 speed: 1846 wps\n",
      "Epoch 1 : Train Perplexity: 425.764\n",
      "Epoch 1 : Valid Perplexity: 232.559\n",
      "Epoch 2 : Learning rate: 1.000\n",
      "Itr 10 of 774, perplexity: 268.477 speed: 1815 wps\n",
      "Itr 87 of 774, perplexity: 235.639 speed: 1842 wps\n",
      "Itr 164 of 774, perplexity: 225.088 speed: 1842 wps\n",
      "Itr 241 of 774, perplexity: 215.655 speed: 1843 wps\n",
      "Itr 318 of 774, perplexity: 213.035 speed: 1844 wps\n",
      "Itr 395 of 774, perplexity: 207.163 speed: 1843 wps\n",
      "Itr 472 of 774, perplexity: 202.894 speed: 1843 wps\n",
      "Itr 549 of 774, perplexity: 196.351 speed: 1842 wps\n",
      "Itr 626 of 774, perplexity: 190.741 speed: 1842 wps\n",
      "Itr 703 of 774, perplexity: 186.617 speed: 1842 wps\n",
      "Epoch 2 : Train Perplexity: 183.952\n",
      "Epoch 2 : Valid Perplexity: 176.721\n",
      "Epoch 3 : Learning rate: 1.000\n",
      "Itr 10 of 774, perplexity: 183.157 speed: 1807 wps\n",
      "Itr 87 of 774, perplexity: 157.424 speed: 1834 wps\n",
      "Itr 164 of 774, perplexity: 153.683 speed: 1838 wps\n",
      "Itr 241 of 774, perplexity: 148.977 speed: 1840 wps\n",
      "Itr 318 of 774, perplexity: 149.254 speed: 1840 wps\n",
      "Itr 395 of 774, perplexity: 146.437 speed: 1840 wps\n",
      "Itr 472 of 774, perplexity: 144.915 speed: 1840 wps\n",
      "Itr 549 of 774, perplexity: 141.296 speed: 1841 wps\n",
      "Itr 626 of 774, perplexity: 138.482 speed: 1841 wps\n",
      "Itr 703 of 774, perplexity: 136.686 speed: 1840 wps\n",
      "Epoch 3 : Train Perplexity: 135.668\n",
      "Epoch 3 : Valid Perplexity: 148.838\n",
      "Epoch 4 : Learning rate: 1.000\n",
      "Itr 10 of 774, perplexity: 146.232 speed: 1783 wps\n",
      "Itr 87 of 774, perplexity: 125.555 speed: 1837 wps\n",
      "Itr 164 of 774, perplexity: 123.377 speed: 1840 wps\n",
      "Itr 241 of 774, perplexity: 120.224 speed: 1839 wps\n",
      "Itr 318 of 774, perplexity: 121.019 speed: 1840 wps\n",
      "Itr 395 of 774, perplexity: 119.109 speed: 1840 wps\n",
      "Itr 472 of 774, perplexity: 118.320 speed: 1840 wps\n",
      "Itr 549 of 774, perplexity: 115.648 speed: 1840 wps\n",
      "Itr 626 of 774, perplexity: 113.717 speed: 1840 wps\n",
      "Itr 703 of 774, perplexity: 112.615 speed: 1840 wps\n",
      "Epoch 4 : Train Perplexity: 112.106\n",
      "Epoch 4 : Valid Perplexity: 142.537\n",
      "Epoch 5 : Learning rate: 1.000\n",
      "Itr 10 of 774, perplexity: 125.244 speed: 1814 wps\n",
      "Itr 87 of 774, perplexity: 107.108 speed: 1837 wps\n",
      "Itr 164 of 774, perplexity: 105.700 speed: 1839 wps\n",
      "Itr 241 of 774, perplexity: 103.164 speed: 1842 wps\n",
      "Itr 318 of 774, perplexity: 104.128 speed: 1842 wps\n",
      "Itr 395 of 774, perplexity: 102.638 speed: 1842 wps\n",
      "Itr 472 of 774, perplexity: 102.157 speed: 1843 wps\n",
      "Itr 549 of 774, perplexity: 99.991 speed: 1843 wps\n",
      "Itr 626 of 774, perplexity: 98.515 speed: 1843 wps\n",
      "Itr 703 of 774, perplexity: 97.728 speed: 1842 wps\n",
      "Epoch 5 : Train Perplexity: 97.455\n",
      "Epoch 5 : Valid Perplexity: 135.434\n",
      "Epoch 6 : Learning rate: 0.500\n",
      "Itr 10 of 774, perplexity: 107.430 speed: 1807 wps\n",
      "Itr 87 of 774, perplexity: 91.999 speed: 1808 wps\n",
      "Itr 164 of 774, perplexity: 90.054 speed: 1814 wps\n",
      "Itr 241 of 774, perplexity: 87.169 speed: 1821 wps\n",
      "Itr 318 of 774, perplexity: 87.377 speed: 1817 wps\n",
      "Itr 395 of 774, perplexity: 85.591 speed: 1815 wps\n",
      "Itr 472 of 774, perplexity: 84.816 speed: 1810 wps\n",
      "Itr 549 of 774, perplexity: 82.471 speed: 1810 wps\n",
      "Itr 626 of 774, perplexity: 80.809 speed: 1809 wps\n",
      "Itr 703 of 774, perplexity: 79.756 speed: 1809 wps\n",
      "Epoch 6 : Train Perplexity: 79.169\n",
      "Epoch 6 : Valid Perplexity: 125.399\n",
      "Epoch 7 : Learning rate: 0.250\n",
      "Itr 10 of 774, perplexity: 93.528 speed: 1775 wps\n",
      "Itr 87 of 774, perplexity: 81.125 speed: 1787 wps\n",
      "Itr 164 of 774, perplexity: 79.603 speed: 1785 wps\n",
      "Itr 241 of 774, perplexity: 76.997 speed: 1789 wps\n",
      "Itr 318 of 774, perplexity: 77.203 speed: 1787 wps\n",
      "Itr 395 of 774, perplexity: 75.549 speed: 1786 wps\n",
      "Itr 472 of 774, perplexity: 74.754 speed: 1786 wps\n",
      "Itr 549 of 774, perplexity: 72.536 speed: 1779 wps\n",
      "Itr 626 of 774, perplexity: 70.945 speed: 1779 wps\n",
      "Itr 703 of 774, perplexity: 69.877 speed: 1781 wps\n",
      "Epoch 7 : Train Perplexity: 69.211\n",
      "Epoch 7 : Valid Perplexity: 123.686\n",
      "Epoch 8 : Learning rate: 0.125\n",
      "Itr 10 of 774, perplexity: 85.625 speed: 1760 wps\n",
      "Itr 87 of 774, perplexity: 75.061 speed: 1773 wps\n",
      "Itr 164 of 774, perplexity: 73.736 speed: 1775 wps\n",
      "Itr 241 of 774, perplexity: 71.324 speed: 1773 wps\n",
      "Itr 318 of 774, perplexity: 71.533 speed: 1776 wps\n",
      "Itr 395 of 774, perplexity: 69.985 speed: 1776 wps\n",
      "Itr 472 of 774, perplexity: 69.221 speed: 1780 wps\n",
      "Itr 549 of 774, perplexity: 67.093 speed: 1783 wps\n",
      "Itr 626 of 774, perplexity: 65.563 speed: 1785 wps\n",
      "Itr 703 of 774, perplexity: 64.518 speed: 1787 wps\n",
      "Epoch 8 : Train Perplexity: 63.842\n",
      "Epoch 8 : Valid Perplexity: 122.722\n",
      "Epoch 9 : Learning rate: 0.062\n",
      "Itr 10 of 774, perplexity: 81.564 speed: 1764 wps\n",
      "Itr 87 of 774, perplexity: 71.617 speed: 1800 wps\n",
      "Itr 164 of 774, perplexity: 70.433 speed: 1801 wps\n",
      "Itr 241 of 774, perplexity: 68.138 speed: 1802 wps\n",
      "Itr 318 of 774, perplexity: 68.368 speed: 1801 wps\n",
      "Itr 395 of 774, perplexity: 66.896 speed: 1794 wps\n",
      "Itr 472 of 774, perplexity: 66.165 speed: 1782 wps\n",
      "Itr 549 of 774, perplexity: 64.102 speed: 1776 wps\n",
      "Itr 626 of 774, perplexity: 62.610 speed: 13 wps\n",
      "Itr 703 of 774, perplexity: 61.594 speed: 14 wps\n",
      "Epoch 9 : Train Perplexity: 60.928\n",
      "Epoch 9 : Valid Perplexity: 122.134\n",
      "Epoch 10 : Learning rate: 0.031\n",
      "Itr 10 of 774, perplexity: 79.499 speed: 1492 wps\n",
      "Itr 87 of 774, perplexity: 69.794 speed: 1719 wps\n",
      "Itr 164 of 774, perplexity: 68.647 speed: 1738 wps\n",
      "Itr 241 of 774, perplexity: 66.418 speed: 1737 wps\n",
      "Itr 318 of 774, perplexity: 66.653 speed: 1739 wps\n",
      "Itr 395 of 774, perplexity: 65.220 speed: 1742 wps\n",
      "Itr 472 of 774, perplexity: 64.504 speed: 1739 wps\n",
      "Itr 549 of 774, perplexity: 62.485 speed: 1741 wps\n",
      "Itr 626 of 774, perplexity: 61.014 speed: 1752 wps\n",
      "Itr 703 of 774, perplexity: 60.013 speed: 1760 wps\n",
      "Epoch 10 : Train Perplexity: 59.355\n",
      "Epoch 10 : Valid Perplexity: 121.748\n",
      "Epoch 11 : Learning rate: 0.016\n",
      "Itr 10 of 774, perplexity: 78.304 speed: 1769 wps\n",
      "Itr 87 of 774, perplexity: 68.824 speed: 1825 wps\n",
      "Itr 164 of 774, perplexity: 67.692 speed: 1829 wps\n",
      "Itr 241 of 774, perplexity: 65.496 speed: 1827 wps\n",
      "Itr 318 of 774, perplexity: 65.725 speed: 1826 wps\n",
      "Itr 395 of 774, perplexity: 64.308 speed: 1827 wps\n",
      "Itr 472 of 774, perplexity: 63.596 speed: 1820 wps\n",
      "Itr 549 of 774, perplexity: 61.603 speed: 1810 wps\n",
      "Itr 626 of 774, perplexity: 60.144 speed: 1804 wps\n",
      "Itr 703 of 774, perplexity: 59.150 speed: 1799 wps\n",
      "Epoch 11 : Train Perplexity: 58.496\n",
      "Epoch 11 : Valid Perplexity: 121.468\n",
      "Epoch 12 : Learning rate: 0.008\n",
      "Itr 10 of 774, perplexity: 77.586 speed: 1729 wps\n",
      "Itr 87 of 774, perplexity: 68.253 speed: 1754 wps\n",
      "Itr 164 of 774, perplexity: 67.155 speed: 1753 wps\n",
      "Itr 241 of 774, perplexity: 64.989 speed: 1753 wps\n",
      "Itr 318 of 774, perplexity: 65.216 speed: 1749 wps\n",
      "Itr 395 of 774, perplexity: 63.807 speed: 1737 wps\n",
      "Itr 472 of 774, perplexity: 63.098 speed: 1710 wps\n",
      "Itr 549 of 774, perplexity: 61.116 speed: 1715 wps\n",
      "Itr 626 of 774, perplexity: 59.666 speed: 1720 wps\n",
      "Itr 703 of 774, perplexity: 58.676 speed: 1722 wps\n",
      "Epoch 12 : Train Perplexity: 58.025\n",
      "Epoch 12 : Valid Perplexity: 121.240\n",
      "Epoch 13 : Learning rate: 0.004\n",
      "Itr 10 of 774, perplexity: 77.173 speed: 1727 wps\n",
      "Itr 87 of 774, perplexity: 67.922 speed: 1704 wps\n",
      "Itr 164 of 774, perplexity: 66.844 speed: 1727 wps\n",
      "Itr 241 of 774, perplexity: 64.701 speed: 1728 wps\n",
      "Itr 318 of 774, perplexity: 64.932 speed: 1733 wps\n",
      "Itr 395 of 774, perplexity: 63.531 speed: 1735 wps\n",
      "Itr 472 of 774, perplexity: 62.826 speed: 1743 wps\n",
      "Itr 549 of 774, perplexity: 60.850 speed: 1749 wps\n",
      "Itr 626 of 774, perplexity: 59.405 speed: 1758 wps\n",
      "Itr 703 of 774, perplexity: 58.418 speed: 1762 wps\n",
      "Epoch 13 : Train Perplexity: 57.769\n",
      "Epoch 13 : Valid Perplexity: 121.060\n",
      "Epoch 14 : Learning rate: 0.002\n",
      "Itr 10 of 774, perplexity: 76.963 speed: 1777 wps\n",
      "Itr 87 of 774, perplexity: 67.748 speed: 1785 wps\n",
      "Itr 164 of 774, perplexity: 66.674 speed: 1801 wps\n",
      "Itr 241 of 774, perplexity: 64.542 speed: 1802 wps\n"
     ]
    },
    {
     "name": "stdout",
     "output_type": "stream",
     "text": [
      "Itr 318 of 774, perplexity: 64.779 speed: 1801 wps\n",
      "Itr 395 of 774, perplexity: 63.382 speed: 1799 wps\n",
      "Itr 472 of 774, perplexity: 62.680 speed: 1776 wps\n",
      "Itr 549 of 774, perplexity: 60.708 speed: 1779 wps\n",
      "Itr 626 of 774, perplexity: 59.265 speed: 1782 wps\n",
      "Itr 703 of 774, perplexity: 58.281 speed: 1784 wps\n",
      "Epoch 14 : Train Perplexity: 57.633\n",
      "Epoch 14 : Valid Perplexity: 120.926\n",
      "Epoch 15 : Learning rate: 0.001\n",
      "Itr 10 of 774, perplexity: 76.846 speed: 1792 wps\n",
      "Itr 87 of 774, perplexity: 67.652 speed: 1822 wps\n",
      "Itr 164 of 774, perplexity: 66.580 speed: 1820 wps\n",
      "Itr 241 of 774, perplexity: 64.455 speed: 1808 wps\n",
      "Itr 318 of 774, perplexity: 64.696 speed: 1805 wps\n",
      "Itr 395 of 774, perplexity: 63.301 speed: 1803 wps\n",
      "Itr 472 of 774, perplexity: 62.602 speed: 1805 wps\n",
      "Itr 549 of 774, perplexity: 60.632 speed: 1803 wps\n",
      "Itr 626 of 774, perplexity: 59.191 speed: 1803 wps\n",
      "Itr 703 of 774, perplexity: 58.208 speed: 1803 wps\n",
      "Epoch 15 : Train Perplexity: 57.561\n",
      "Epoch 15 : Valid Perplexity: 120.842\n",
      "Test Perplexity: 117.177\n"
     ]
    }
   ],
   "source": [
    "# Initializes the Execution Graph and the Session\n",
    "with tf.Graph().as_default(), tf.Session() as session:\n",
    "    initializer = tf.random_uniform_initializer(-init_scale, init_scale)\n",
    "    \n",
    "    # Instantiates the model for training\n",
    "    # tf.variable_scope add a prefix to the variables created with tf.get_variable\n",
    "    with tf.variable_scope(\"model\", reuse=None, initializer=initializer):\n",
    "        m = PTBModel(\"is_training\")\n",
    "        \n",
    "    # Reuses the trained parameters for the validation and testing models\n",
    "    # They are different instances but use the same variables for weights and biases, they just don't change when data is input\n",
    "    with tf.variable_scope(\"model\", reuse=True, initializer=initializer):\n",
    "        mvalid = PTBModel(\"is_validating\")\n",
    "        mtest = PTBModel(\"is_testing\")\n",
    "\n",
    "    #Initialize all variables\n",
    "    tf.global_variables_initializer().run()\n",
    "\n",
    "    for i in range(max_epoch):\n",
    "        # Define the decay for this epoch\n",
    "        lr_decay = decay ** max(i - max_epoch_decay_lr, 0.0)\n",
    "        \n",
    "        # Set the decayed learning rate as the learning rate for this epoch\n",
    "        m.assign_lr(session, learning_rate * lr_decay)\n",
    "\n",
    "        print(\"Epoch %d : Learning rate: %.3f\" % (i + 1, session.run(m.lr)))\n",
    "        \n",
    "        # Run the loop for this epoch in the training model\n",
    "        train_perplexity = run_one_epoch(session, m, train_data, m.train_op, verbose=True)\n",
    "        print(\"Epoch %d : Train Perplexity: %.3f\" % (i + 1, train_perplexity))\n",
    "        \n",
    "        # Run the loop for this epoch in the validation model\n",
    "        valid_perplexity = run_one_epoch(session, mvalid, valid_data, tf.no_op())\n",
    "        print(\"Epoch %d : Valid Perplexity: %.3f\" % (i + 1, valid_perplexity))\n",
    "    \n",
    "    # Run the loop in the testing model to see how effective was our training\n",
    "    test_perplexity = run_one_epoch(session, mtest, test_data, tf.no_op())\n",
    "    \n",
    "    print(\"Test Perplexity: %.3f\" % test_perplexity)"
   ]
  },
  {
   "cell_type": "markdown",
   "metadata": {
    "button": false,
    "new_sheet": false,
    "run_control": {
     "read_only": false
    }
   },
   "source": [
    "As you can see, the model's perplexity rating drops very quickly after a few iterations. As was elaborated before, <b>lower Perplexity means that the model is more certain about its prediction</b>. As such, we can be sure that this model is performing well!"
   ]
  },
  {
   "cell_type": "markdown",
   "metadata": {
    "button": false,
    "new_sheet": false,
    "run_control": {
     "read_only": false
    }
   },
   "source": [
    "-------"
   ]
  },
  {
   "cell_type": "markdown",
   "metadata": {
    "button": false,
    "new_sheet": false,
    "run_control": {
     "read_only": false
    }
   },
   "source": [
    "This is the end of the <b>Applying Recurrent Neural Networks to Text Processing</b> notebook. Hopefully you now have a better understanding of Recurrent Neural Networks and how to implement one utilizing TensorFlow. Thank you for reading this notebook, and good luck on your studies."
   ]
  },
  {
   "cell_type": "markdown",
   "metadata": {
    "button": false,
    "new_sheet": false,
    "run_control": {
     "read_only": false
    }
   },
   "source": [
    "## Want to learn more?\n",
    "\n",
    "Running deep learning programs usually needs a high performance platform. __PowerAI__ speeds up deep learning and AI. Built on IBM’s Power Systems, __PowerAI__ is a scalable software platform that accelerates deep learning and AI with blazing performance for individual users or enterprises. The __PowerAI__ platform supports popular machine learning libraries and dependencies including TensorFlow, Caffe, Torch, and Theano. You can use [PowerAI on IMB Cloud](https://cocl.us/ML0120EN_PAI).\n",
    "\n",
    "Also, you can use __Watson Studio__ to run these notebooks faster with bigger datasets.__Watson Studio__ is IBM’s leading cloud solution for data scientists, built by data scientists. With Jupyter notebooks, RStudio, Apache Spark and popular libraries pre-packaged in the cloud, __Watson Studio__ enables data scientists to collaborate on their projects without having to install anything. Join the fast-growing community of __Watson Studio__ users today with a free account at [Watson Studio](https://cocl.us/ML0120EN_DSX).This is the end of this lesson. Thank you for reading this notebook, and good luck on your studies."
   ]
  },
  {
   "cell_type": "markdown",
   "metadata": {
    "button": false,
    "new_sheet": false,
    "run_control": {
     "read_only": false
    }
   },
   "source": [
    "### Thanks for completing this lesson!\n",
    "\n",
    "Notebook created by <a href=\"https://br.linkedin.com/in/walter-gomes-de-amorim-junior-624726121\">Walter Gomes de Amorim Junior</a>, <a href = \"https://linkedin.com/in/saeedaghabozorgi\"> Saeed Aghabozorgi </a></h4>"
   ]
  },
  {
   "cell_type": "markdown",
   "metadata": {
    "button": false,
    "new_sheet": false,
    "run_control": {
     "read_only": false
    }
   },
   "source": [
    "<hr>\n",
    "\n",
    "Copyright &copy; 2018 [Cognitive Class](https://cocl.us/DX0108EN_CC). This notebook and its source code are released under the terms of the [MIT License](https://bigdatauniversity.com/mit-license/)."
   ]
  }
 ],
 "metadata": {
  "anaconda-cloud": {},
  "kernelspec": {
   "display_name": "Python 3",
   "language": "python",
   "name": "python3"
  },
  "language_info": {
   "codemirror_mode": {
    "name": "ipython",
    "version": 3
   },
   "file_extension": ".py",
   "mimetype": "text/x-python",
   "name": "python",
   "nbconvert_exporter": "python",
   "pygments_lexer": "ipython3",
   "version": "3.7.3"
  },
  "widgets": {
   "state": {},
   "version": "1.1.2"
  }
 },
 "nbformat": 4,
 "nbformat_minor": 2
}
