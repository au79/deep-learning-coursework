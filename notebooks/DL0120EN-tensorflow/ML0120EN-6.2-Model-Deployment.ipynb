{
 "cells": [
  {
   "cell_type": "markdown",
   "metadata": {},
   "source": [
    "<h1 align=\"center\"><font size=\"5\">Model-Deployment</font></h1>"
   ]
  },
  {
   "cell_type": "markdown",
   "metadata": {},
   "source": [
    "<h2>Introduction</h2>\n",
    "\n",
    "After training and saving our model we are going to deploy our saved model in a <b>Flask</b> app. <b>Flask</b> is a web framework in which we will be hosting our machine learning model. We are going to push our <b>Flask</b> app to IBM Cloud and access our flask app anywhere using a custon link to our machine learning model."
   ]
  },
  {
   "cell_type": "markdown",
   "metadata": {},
   "source": [
    "<div class=\"alert alert-block alert-info\" style=\"margin-top: 20px\">\n",
    "<font size = 3><strong>Click on the links to go to the following sections:</strong></font>\n",
    "<br>\n",
    "<h2>Table of Contents</h2>\n",
    "<ol>\n",
    "    <li><a href=\"#ref1\">Downloading Flask App</a></li>\n",
    "    <li><a href=\"#ref2\">Accessing Your Saved Model</a></li>\n",
    "    <li><a href=\"#ref3\">Configuring Your Flask App</a></li>\n",
    "    <li><a href=\"#ref4\">Pushing Your App to the Cloud</a></li>\n",
    "</ol>    \n",
    "</div>"
   ]
  },
  {
   "cell_type": "markdown",
   "metadata": {},
   "source": [
    "<a id=\"ref1\"></a>\n",
    "<h2>Downloading Flask App</h2>\n",
    "<p>Once you trained and saved your model, you want to deploy it on the web and provide a graphic user interface for people to interact with it. <b>Flask</b> is a lightweight web framework that allows us to host and deploy our machine learning model.</p>\n",
    "\n",
    "<p>The code below downloads and unzip the Flask app.</p>"
   ]
  },
  {
   "cell_type": "code",
   "execution_count": 2,
   "metadata": {},
   "outputs": [
    {
     "name": "stdout",
     "output_type": "stream",
     "text": [
      "Requirement already satisfied: wget in /opt/conda/lib/python3.7/site-packages (3.2)\r\n"
     ]
    }
   ],
   "source": [
    "!pip install wget"
   ]
  },
  {
   "cell_type": "code",
   "execution_count": 4,
   "metadata": {},
   "outputs": [],
   "source": [
    "import wget, zipfile, os\n",
    "\n",
    "#source_zipfile='Python-Flask-MNIST-sample-app.zip'\n",
    "filename='Python-Flask-MNIST-sample-app'\n",
    "\n",
    "if not os.path.isfile(filename):\n",
    "    filename = wget.download('https://s3-api.us-geo.objectstorage.softlayer.net/cf-courses-data/CognitiveClass/ML0120ENv3/Flask-App/Python-Flask-MNIST-sample-app.zip')\n",
    "    with zipfile.ZipFile(\"Python-Flask-MNIST-sample-app.zip\",\"r\") as zip_ref:\n",
    "        zip_ref.extractall()"
   ]
  },
  {
   "cell_type": "markdown",
   "metadata": {},
   "source": [
    "<a id=\"ref2\"></a>\n",
    "<h2>Accessing Your Saved Model</h2>\n",
    "\n",
    "<p>In order for your app to access your machine learning model we need the <code>model_deployment_endpoint_url</code> of your model.</p>\n",
    "\n",
    "<p>First we install Watson Machine Learning package by running the code below."
   ]
  },
  {
   "cell_type": "code",
   "execution_count": 1,
   "metadata": {},
   "outputs": [
    {
     "name": "stdout",
     "output_type": "stream",
     "text": [
      "Looking up '\u001b[36;1mmachine-learning\u001b[0m' from repository '\u001b[36;1mIBM Cloud\u001b[0m'...\n",
      "Plug-in '\u001b[36;1mmachine-learning\u001b[0m \u001b[36;1m3.0.2\u001b[0m' found in repository '\u001b[36;1mIBM Cloud\u001b[0m'\n",
      "Attempting to download the binary file...\n",
      " 19.14 MiB / 19.14 MiB [============================================] 100.00% 2s\n",
      "20071911 bytes downloaded\n",
      "Installing binary...\n",
      "\u001b[32;1mOK\u001b[0m\n",
      "Plug-in '\u001b[36;1mmachine-learning 3.0.2\u001b[0m' was successfully installed into /home/jovyan/.bluemix/plugins/machine-learning. Use '\u001b[33;1mbx plugin show machine-learning\u001b[0m' to show its details.\n"
     ]
    }
   ],
   "source": [
    "!bx plugin install machine-learning"
   ]
  },
  {
   "cell_type": "markdown",
   "metadata": {},
   "source": [
    "<p>Then we need to list out which instance of our saved machine learning model we want to deploy.</p>\n",
    "\n",
    "<p>To do that we need to set the environment variables for Watson Machine Learning</p>\n",
    "\n",
    "<p>To access Watson Machine Learning</p>\n",
    "<ol>\n",
    "    <li>Log into <a href=\"https://console.bluemix.net\" target=\"_blank\">IBM Cloud</a>.(Takes you to your IBM Cloud dashboard.</li>\n",
    "     <li>In your IBM Cloud dashboard, click the Watson Machine Learning service instance for which you want to retrieve credentials. (This opens the service details page for the Watson Machine Learning service instance.)\n",
    "         Click Service credentials.</li>\n",
    "    <li>If there are no service credentials yet, click the New credential button.</li>\n",
    "    <li>Under the ACTION menu, click \"View credentials\".</li>\n",
    "</ol>\n",
    "\n",
    "Then Set\n",
    "<ul>\n",
    "    <li>ML_ENV=value of url</li>\n",
    "    <li>ML_USERNAME=value of username</li>\n",
    "    <li>ML_PASSWORD=value of password</li>\n",
    "    <li>ML_INSTANCE=value of instance_id</li>\n",
    "</ul>\n",
    "\n",
    "Run the code below to list your saved machine learning model instances."
   ]
  },
  {
   "cell_type": "code",
   "execution_count": 2,
   "metadata": {},
   "outputs": [
    {
     "name": "stdout",
     "output_type": "stream",
     "text": [
      "\u001b[1m\u001b[0m                                         \u001b[1m\u001b[0m   \r\n",
      "\u001b[36;1mPlugin Name\u001b[0m                              machine-learning   \r\n",
      "\u001b[36;1mPlugin Version\u001b[0m                           3.0.2   \r\n",
      "\u001b[36;1mPlugin SDK Version\u001b[0m                       0.2.1   \r\n",
      "\u001b[36;1mMinimal IBM Cloud CLI version required\u001b[0m   0.4.0   \r\n",
      "\r\n",
      "\u001b[1mCommands:\u001b[0m\r\n",
      "\u001b[36;1m ml\u001b[0m                     Manage machine learning lifecycle on IBM Cloud   \r\n",
      "\u001b[36;1m ml show\u001b[0m                Get detailed information about models/deployments/training-runs/training-definitions/experiments/experiment-runs/libraries/runtimes   \r\n",
      "\u001b[36;1m ml train\u001b[0m               Start training a model   \r\n",
      "\u001b[36;1m ml experiments\u001b[0m         Run/Update an experiment stored in WML Repository   \r\n",
      "\u001b[36;1m ml libraries\u001b[0m           Download content from(to the present working directory)/Update a library stored in WML Repository   \r\n",
      "\u001b[36;1m ml runtimes\u001b[0m            Download content from(to the present working directory)/Update a runtime stored in WML Repository   \r\n",
      "\u001b[36;1m ml models\u001b[0m              Download model from(both metadata and content of the model to the present working directory) WML repository   \r\n",
      "\u001b[36;1m ml delete\u001b[0m              Delete a model/deployment/training-run/training-definitions/experiments/experiment-runs/libraries/runtimes   \r\n",
      "\u001b[36;1m ml generate-manifest\u001b[0m   Generate a sample manifest for training-definitions/experiments/training-runs/update-experiments/batch/libraries/runtimes   \r\n",
      "\u001b[36;1m ml cancel\u001b[0m              Cancel training a model   \r\n",
      "\u001b[36;1m ml list\u001b[0m                List the models/deployments/training-runs/experiments/training-definitions/experiment-runs/libraries/runtimes   \r\n",
      "\u001b[36;1m ml monitor\u001b[0m             Start fetching status/metric messages of a training-run/experiment   \r\n",
      "\u001b[36;1m ml version\u001b[0m             show git hash and build time of cli   \r\n",
      "\u001b[36;1m ml deploy\u001b[0m              Deploy a model for scoring   \r\n",
      "\u001b[36;1m ml score\u001b[0m               Score the model. Sample scoring json format -  {\"modelId\": \"sample\", \"deploymentId\": \"sample\",\"payload\": {\"fields\": [],\"values\": []}}   \r\n",
      "\u001b[36;1m ml store\u001b[0m               Store a model/training-definition/experiment/training-runs/libraries/runtimes to WML repository   \r\n",
      "\u001b[36;1m ml set\u001b[0m                 Set ML instance    \r\n",
      "\r\n"
     ]
    }
   ],
   "source": [
    "!bx plugin show machine-learning"
   ]
  },
  {
   "cell_type": "code",
   "execution_count": 3,
   "metadata": {},
   "outputs": [
    {
     "name": "stdout",
     "output_type": "stream",
     "text": [
      "API endpoint: https://cloud.ibm.com\n",
      "Region: us-south\n",
      "Logging in with API key from environment variable...\n",
      "Authenticating...\n",
      "OK\n",
      "\n",
      "Targeted account Christopher Goldman's Account (20cf85337b99434a95ba2b141886466e)\n",
      "\n",
      "                      \n",
      "API endpoint:      https://cloud.ibm.com   \n",
      "Region:            us-south   \n",
      "User:              cgoldman@oolong.com   \n",
      "Account:           Christopher Goldman's Account (20cf85337b99434a95ba2b141886466e)   \n",
      "Resource group:    No resource group targeted, use 'bx target -g RESOURCE_GROUP'   \n",
      "CF API endpoint:      \n",
      "Org:                  \n",
      "Space:                \n",
      "\n",
      "Tip: If you are managing Cloud Foundry applications and services\n",
      "- Use 'bx target --cf' to target Cloud Foundry org/space interactively, or use 'bx target --cf-api ENDPOINT -o ORG -s SPACE' to target the org/space.\n",
      "- Use 'bx cf' if you want to run the Cloud Foundry CLI with current IBM Cloud CLI context.\n",
      "\n",
      "================================================\n",
      "Fetching instances list for Prod us-south\n",
      "================================================\n",
      "SI No   GUID                                   Instance Name   \n",
      "1       91a35b53-d3a3-48b1-9eba-0922f333fa20   Machine Learning-ix   \n",
      "================================================\n",
      "Fetching instances list for Prod us-south successful\n",
      "================================================\n",
      "\n",
      "1 records found.\n",
      "OK\n",
      "List Instances successful\n"
     ]
    }
   ],
   "source": [
    "%%bash\n",
    "export ML_ENV=https://us-south.ml.cloud.ibm.com\n",
    "export IBMCLOUD_API_KEY=QrofEb5kbG1et9BIfUI5j4khVMvFFodhIrZbj1Ak1k2N\n",
    "export ML_INSTANCE=91a35b53-d3a3-48b1-9eba-0922f333fa20\n",
    "bx login\n",
    "bx ml list instances"
   ]
  },
  {
   "cell_type": "markdown",
   "metadata": {},
   "source": [
    "<p>In the last line in the code cell below, <br>\n",
    "    <code>bx ml show deployments model_id deployment_id</code><br>\n",
    "    replace model_id with \"Model Id\", and replace deployment_id with \"Deployment Id\" from the model in the output above.\n",
    "</p> \n",
    "\n",
    "<p>\n",
    "    To get the <code>model_deployment_endpoint_url</code> of your model run the code below with the same environment variables as the previous code cell.\n",
    "</p>"
   ]
  },
  {
   "cell_type": "markdown",
   "metadata": {},
   "source": [
    "Get your GUID and replace GUID below."
   ]
  },
  {
   "cell_type": "code",
   "execution_count": 5,
   "metadata": {},
   "outputs": [
    {
     "name": "stdout",
     "output_type": "stream",
     "text": [
      "================================================\n",
      "Instance-ID:\t91a35b53-d3a3-48b1-9eba-0922f333fa20\n",
      "URL: \t\thttps://us-south.ml.cloud.ibm.com\n",
      "================================================\n",
      "OK\n",
      "Set Instance successful\n",
      "Fetching all the deployments ...\n",
      "SI No   Deployment Id                          Model Id                               Type     Deployment Name          Status           created_at   \n",
      "1       0b7e5589-f03e-4ca7-a8ac-633185e64522   1d7d2304-0087-4b7e-803e-5113365bb256   online   Mnist model deployment   DEPLOY_SUCCESS   2020-01-10T22:00:02.728Z   \n",
      "\n",
      "1 records found.\n",
      "OK\n",
      "List all deployments successful\n"
     ]
    }
   ],
   "source": [
    "%%bash\n",
    "bx ml set instance 91a35b53-d3a3-48b1-9eba-0922f333fa20\n",
    "bx ml list deployments"
   ]
  },
  {
   "cell_type": "code",
   "execution_count": 7,
   "metadata": {},
   "outputs": [
    {
     "name": "stdout",
     "output_type": "stream",
     "text": [
      "Fetching the details for the deployment '0b7e5589-f03e-4ca7-a8ac-633185e64522' ...\n",
      "DeploymentId       0b7e5589-f03e-4ca7-a8ac-633185e64522   \n",
      "Scoring endpoint   https://us-south.ml.cloud.ibm.com/v3/wml_instances/91a35b53-d3a3-48b1-9eba-0922f333fa20/published_models/1d7d2304-0087-4b7e-803e-5113365bb256/deployments/0b7e5589-f03e-4ca7-a8ac-633185e64522/online   \n",
      "Name               Mnist model deployment   \n",
      "Model Type         tensorflow-1.13   \n",
      "Deployment Type    online   \n",
      "Runtime            None Provided   \n",
      "Status             DEPLOY_SUCCESS   \n",
      "Created at         2020-01-10T22:00:02.728Z   \n",
      "OK\n",
      "Show deployment details successful\n"
     ]
    }
   ],
   "source": [
    "%%bash\n",
    "bx ml show deployments 1d7d2304-0087-4b7e-803e-5113365bb256d 0b7e5589-f03e-4ca7-a8ac-633185e64522"
   ]
  },
  {
   "cell_type": "markdown",
   "metadata": {},
   "source": [
    "<code>Scoring endpoint</code> will be your <code>model_deployment_endpoint_url</code>."
   ]
  },
  {
   "cell_type": "markdown",
   "metadata": {},
   "source": [
    "<a id=\"ref3\"></a>\n",
    "<h2>Configuring Your Flask App</h2>\n",
    "<p>In order to deploy your access your saved model, we need to give your app the url of your saved model.</p>\n",
    "\n",
    "<p>In the folder of your Flask app there is a file called <b>server.py</b>. Fill in <code>model_deployment_endpoint_url</code> with the \"Scroing endpoint\" of your model.</p>\n",
    "<p>And also fill in your wml_credentials</p>"
   ]
  },
  {
   "cell_type": "markdown",
   "metadata": {},
   "source": [
    "<h3>Create a Cloud Foundry App</h3>\n",
    "<p>Create a Python Cloud Foundry app here: <a href=\"https://cocl.us/Cloud-Foundry-Python-ML0120EN-Edx\" target=\"_blank\">Create a Python Cloud Foundry app</a></p>\n",
    "<ol>\n",
    "        <li>Give the app a unique name (for the rest of this example, the sample name will be: \"your-name-machine-learning-app\")</li>\n",
    "        <li>Accept the defaults in the other fields of the form</li>\n",
    "        <li>Choose the 128 MB plan</li>\n",
    "        <li>Click <strong>Create</strong></li>\n",
    "</ol>\n",
    "\n",
    "<p>The <b>Visit App URL</b> contains the link to the app</p>\n",
    "\n",
    "<p>In the folder of your Flask app there is a file called <b>manifest.yml</b>. Replace <b>app-name</b> with the name of your app. And make sure the <b>memory</b> is set to \"128mb\".</p>\n",
    "    \n",
    "<p>In another file named <code>setup.py</code> replace <b>app-name</b> with the name of your app.</p>\n",
    "\n"
   ]
  },
  {
   "cell_type": "code",
   "execution_count": 16,
   "metadata": {},
   "outputs": [
    {
     "name": "stdout",
     "output_type": "stream",
     "text": [
      "Collecting watson-machine-learning-client\n",
      "\u001b[?25l  Downloading https://files.pythonhosted.org/packages/12/67/66db412f00d19bfdc5725078bff373787513bfb14320f2804b9db3abb53a/watson_machine_learning_client-1.0.378-py3-none-any.whl (536kB)\n",
      "\u001b[K     |████████████████████████████████| 542kB 9.7MB/s eta 0:00:01\n",
      "\u001b[?25hRequirement already satisfied, skipping upgrade: certifi in /opt/conda/lib/python3.7/site-packages (from watson-machine-learning-client) (2019.3.9)\n",
      "Collecting tqdm (from watson-machine-learning-client)\n",
      "\u001b[?25l  Downloading https://files.pythonhosted.org/packages/72/c9/7fc20feac72e79032a7c8138fd0d395dc6d8812b5b9edf53c3afd0b31017/tqdm-4.41.1-py2.py3-none-any.whl (56kB)\n",
      "\u001b[K     |████████████████████████████████| 61kB 15.0MB/s eta 0:00:01\n",
      "\u001b[?25hRequirement already satisfied, skipping upgrade: pandas in /opt/conda/lib/python3.7/site-packages (from watson-machine-learning-client) (0.24.2)\n",
      "Collecting lomond (from watson-machine-learning-client)\n",
      "  Downloading https://files.pythonhosted.org/packages/0f/b1/02eebed49c754b01b17de7705caa8c4ceecfb4f926cdafc220c863584360/lomond-0.3.3-py2.py3-none-any.whl\n",
      "Requirement already satisfied, skipping upgrade: urllib3 in /opt/conda/lib/python3.7/site-packages (from watson-machine-learning-client) (1.24.2)\n",
      "Collecting tabulate (from watson-machine-learning-client)\n",
      "\u001b[?25l  Downloading https://files.pythonhosted.org/packages/c4/41/523f6a05e6dc3329a5660f6a81254c6cd87e5cfb5b7482bae3391d86ec3a/tabulate-0.8.6.tar.gz (45kB)\n",
      "\u001b[K     |████████████████████████████████| 51kB 26.5MB/s eta 0:00:01\n",
      "\u001b[?25hCollecting ibm-cos-sdk (from watson-machine-learning-client)\n",
      "\u001b[?25l  Downloading https://files.pythonhosted.org/packages/6f/91/86b2816c7b77d816b03a1ad6cf7db4b1f67556af395d5b93fdae6086c933/ibm-cos-sdk-2.6.0.tar.gz (53kB)\n",
      "\u001b[K     |████████████████████████████████| 61kB 16.7MB/s eta 0:00:01\n",
      "\u001b[?25hRequirement already satisfied, skipping upgrade: requests in /opt/conda/lib/python3.7/site-packages (from watson-machine-learning-client) (2.21.0)\n",
      "Requirement already satisfied, skipping upgrade: pytz>=2011k in /opt/conda/lib/python3.7/site-packages (from pandas->watson-machine-learning-client) (2019.1)\n",
      "Requirement already satisfied, skipping upgrade: numpy>=1.12.0 in /opt/conda/lib/python3.7/site-packages (from pandas->watson-machine-learning-client) (1.16.3)\n",
      "Requirement already satisfied, skipping upgrade: python-dateutil>=2.5.0 in /opt/conda/lib/python3.7/site-packages (from pandas->watson-machine-learning-client) (2.8.0)\n",
      "Requirement already satisfied, skipping upgrade: six>=1.10.0 in /opt/conda/lib/python3.7/site-packages (from lomond->watson-machine-learning-client) (1.12.0)\n",
      "Collecting ibm-cos-sdk-core==2.6.0 (from ibm-cos-sdk->watson-machine-learning-client)\n",
      "\u001b[?25l  Downloading https://files.pythonhosted.org/packages/ea/c1/c823507c472bf88dbd045445df6850744111d34fd218c6ea3b9c9bde2cfe/ibm-cos-sdk-core-2.6.0.tar.gz (763kB)\n",
      "\u001b[K     |████████████████████████████████| 768kB 7.5MB/s eta 0:00:01\n",
      "\u001b[?25hCollecting ibm-cos-sdk-s3transfer==2.6.0 (from ibm-cos-sdk->watson-machine-learning-client)\n",
      "\u001b[?25l  Downloading https://files.pythonhosted.org/packages/6f/92/682a28b99777a3fdc65e6d5641ed7e1ca470d0eab3bb2826cc30c6b60e21/ibm-cos-sdk-s3transfer-2.6.0.tar.gz (221kB)\n",
      "\u001b[K     |████████████████████████████████| 225kB 20.7MB/s eta 0:00:01\n",
      "\u001b[?25hCollecting jmespath<1.0.0,>=0.7.1 (from ibm-cos-sdk->watson-machine-learning-client)\n",
      "  Downloading https://files.pythonhosted.org/packages/83/94/7179c3832a6d45b266ddb2aac329e101367fbdb11f425f13771d27f225bb/jmespath-0.9.4-py2.py3-none-any.whl\n",
      "Requirement already satisfied, skipping upgrade: chardet<3.1.0,>=3.0.2 in /opt/conda/lib/python3.7/site-packages (from requests->watson-machine-learning-client) (3.0.4)\n",
      "Requirement already satisfied, skipping upgrade: idna<2.9,>=2.5 in /opt/conda/lib/python3.7/site-packages (from requests->watson-machine-learning-client) (2.8)\n",
      "Collecting docutils<0.16,>=0.10 (from ibm-cos-sdk-core==2.6.0->ibm-cos-sdk->watson-machine-learning-client)\n",
      "\u001b[?25l  Downloading https://files.pythonhosted.org/packages/22/cd/a6aa959dca619918ccb55023b4cb151949c64d4d5d55b3f4ffd7eee0c6e8/docutils-0.15.2-py3-none-any.whl (547kB)\n",
      "\u001b[K     |████████████████████████████████| 552kB 8.1MB/s eta 0:00:01\n",
      "\u001b[?25hBuilding wheels for collected packages: tabulate, ibm-cos-sdk, ibm-cos-sdk-core, ibm-cos-sdk-s3transfer\n",
      "  Building wheel for tabulate (setup.py) ... \u001b[?25ldone\n",
      "\u001b[?25h  Stored in directory: /home/jovyan/.cache/pip/wheels/9c/9b/f4/eb243fdb89676ec00588e8c54bb54360724c06e7fafe95278e\n",
      "  Building wheel for ibm-cos-sdk (setup.py) ... \u001b[?25ldone\n",
      "\u001b[?25h  Stored in directory: /home/jovyan/.cache/pip/wheels/37/9c/c4/a2c610ccb877d37c2cb87a5bfe55845fecffd6bb01bcd5e9d5\n",
      "  Building wheel for ibm-cos-sdk-core (setup.py) ... \u001b[?25ldone\n",
      "\u001b[?25h  Stored in directory: /home/jovyan/.cache/pip/wheels/75/93/e6/23071b2c037147a0993d34b64a03e51abca84435fc9cd6a278\n",
      "  Building wheel for ibm-cos-sdk-s3transfer (setup.py) ... \u001b[?25ldone\n",
      "\u001b[?25h  Stored in directory: /home/jovyan/.cache/pip/wheels/23/d9/d7/43fd95b014eed89466154d8373bf4cffbb3d972de7841e213c\n",
      "Successfully built tabulate ibm-cos-sdk ibm-cos-sdk-core ibm-cos-sdk-s3transfer\n",
      "Installing collected packages: tqdm, lomond, tabulate, jmespath, docutils, ibm-cos-sdk-core, ibm-cos-sdk-s3transfer, ibm-cos-sdk, watson-machine-learning-client\n",
      "Successfully installed docutils-0.15.2 ibm-cos-sdk-2.6.0 ibm-cos-sdk-core-2.6.0 ibm-cos-sdk-s3transfer-2.6.0 jmespath-0.9.4 lomond-0.3.3 tabulate-0.8.6 tqdm-4.41.1 watson-machine-learning-client-1.0.378\n"
     ]
    }
   ],
   "source": [
    "!rm -rf $PIP_BUILD/watson-machine-learning-client\n",
    "!pip install watson-machine-learning-client --upgrade"
   ]
  },
  {
   "cell_type": "code",
   "execution_count": 24,
   "metadata": {},
   "outputs": [],
   "source": [
    "wml_credentials = {\n",
    "  \"apikey\": \"pIFaFqASWOGHoAtWAZIaSYfS_xEhAYTEtUJnAxMEDqlD\",\n",
    "  \"iam_apikey_description\": \"Auto generated apikey during resource-key operation for Instance - crn:v1:bluemix:public:pm-20:us-south:a/20cf85337b99434a95ba2b141886466e:91a35b53-d3a3-48b1-9eba-0922f333fa20::\",\n",
    "  \"iam_apikey_name\": \"auto-generated-apikey-aaf8a72e-b930-46d0-b1a9-6b405a9f9724\",\n",
    "  \"iam_role_crn\": \"crn:v1:bluemix:public:iam::::serviceRole:Writer\",\n",
    "  \"iam_serviceid_crn\": \"crn:v1:bluemix:public:iam-identity::a/20cf85337b99434a95ba2b141886466e::serviceid:ServiceId-c3f4527b-e310-4fe6-972e-43e1f4cf5d22\",\n",
    "  \"instance_id\": \"91a35b53-d3a3-48b1-9eba-0922f333fa20\",\n",
    "  \"url\": \"https://us-south.ml.cloud.ibm.com\"\n",
    "}\n",
    "from watson_machine_learning_client import WatsonMachineLearningAPIClient\n",
    "client = WatsonMachineLearningAPIClient(wml_credentials)"
   ]
  },
  {
   "cell_type": "markdown",
   "metadata": {},
   "source": [
    "<a id=\"ref4\"></a>\n",
    "<h2>Pushing Your App to the Cloud</h2>\n",
    "In the code cell below, replace <code>email</code> with you email that you use for your IBM Cloud Log in, and password with your IBM Cloud Log in password. <br>\n",
    "Replace region with a number from 1 to 6.\n",
    "\n",
    "1. au-syd\n",
    "2. jp-tok\n",
    "3. eu-de\n",
    "4. eu-gb\n",
    "5. us-south\n",
    "6. us-east\n",
    "\n",
    "Then run the code below to push your app onto IBM cloud."
   ]
  },
  {
   "cell_type": "code",
   "execution_count": 23,
   "metadata": {},
   "outputs": [
    {
     "name": "stdout",
     "output_type": "stream",
     "text": [
      "API endpoint: https://cloud.ibm.com\n",
      "Region: us-south\n",
      "Logging in with API key from environment variable...\n",
      "Authenticating...\n",
      "OK\n",
      "\n",
      "Targeted account Christopher Goldman's Account (20cf85337b99434a95ba2b141886466e)\n",
      "\n",
      "                      \n",
      "API endpoint:      https://cloud.ibm.com   \n",
      "Region:            us-south   \n",
      "User:              cgoldman@oolong.com   \n",
      "Account:           Christopher Goldman's Account (20cf85337b99434a95ba2b141886466e)   \n",
      "Resource group:    No resource group targeted, use 'ibmcloud target -g RESOURCE_GROUP'   \n",
      "CF API endpoint:      \n",
      "Org:                  \n",
      "Space:                \n",
      "\n",
      "Tip: If you are managing Cloud Foundry applications and services\n",
      "- Use 'ibmcloud target --cf' to target Cloud Foundry org/space interactively, or use 'ibmcloud target --cf-api ENDPOINT -o ORG -s SPACE' to target the org/space.\n",
      "- Use 'ibmcloud cf' if you want to run the Cloud Foundry CLI with current IBM Cloud CLI context.\n",
      "\n",
      "Targeted Cloud Foundry (https://api.us-south.cf.cloud.ibm.com)\n",
      "\n",
      "Targeted org cgoldman@oolong.com\n",
      "\n",
      "Targeted space dev\n",
      "\n",
      "\n",
      "                      \n",
      "API endpoint:      https://cloud.ibm.com   \n",
      "Region:            us-south   \n",
      "User:              cgoldman@oolong.com   \n",
      "Account:           Christopher Goldman's Account (20cf85337b99434a95ba2b141886466e)   \n",
      "Resource group:    No resource group targeted, use 'ibmcloud target -g RESOURCE_GROUP'   \n",
      "CF API endpoint:   https://api.us-south.cf.cloud.ibm.com (API version: 2.142.0)   \n",
      "Org:               cgoldman@oolong.com   \n",
      "Space:             dev   \n",
      "Invoking 'cf push'...\n",
      "\n",
      "Pushing from manifest to org cgoldman@oolong.com / space dev as cgoldman@oolong.com...\n",
      "Using manifest file /home/jovyan/work/Python-Flask-MNIST-sample-app/app/manifest.yml\n",
      "Getting app info...\n",
      "Updating app with these attributes...\n",
      "  name:                flask-digit-recognizer\n",
      "  path:                /home/jovyan/work/Python-Flask-MNIST-sample-app/app\n",
      "  command:             python server.py\n",
      "  disk quota:          1G\n",
      "  health check type:   port\n",
      "  instances:           1\n",
      "  memory:              128M\n",
      "  stack:               cflinuxfs3\n",
      "  services:\n",
      "    availability-monitoring-auto\n",
      "  routes:\n",
      "    flask-digit-recognizer.us-south.cf.appdomain.cloud\n",
      "\n",
      "Updating app flask-digit-recognizer...\n",
      "Mapping routes...\n",
      "Comparing local files to remote cache...\n",
      "Packaging files to upload...\n",
      "Uploading files...\n",
      "\r",
      " 0 B / 11.30 KiB    0.00%\r",
      " 11.30 KiB / 11.30 KiB  100.00%\r",
      " 11.30 KiB / 11.30 KiB  100.00%\r",
      " 11.30 KiB / 11.30 KiB  100.00%\r",
      " 11.30 KiB / 11.30 KiB  100.00%\r",
      " 11.30 KiB / 11.30 KiB  100.00%\r",
      " 11.30 KiB / 11.30 KiB  100.00%\r",
      " 11.30 KiB / 11.30 KiB  100.00% 1s\n",
      "\n",
      "Waiting for API to complete processing files...\n",
      "\n",
      "Stopping app...\n",
      "\n",
      "Staging app and tracing logs...\n",
      "   Downloading dotnet-core_v2_5-20191209-1920...\n",
      "   Downloading liberty-for-java...\n",
      "   Downloading sdk-for-nodejs...\n",
      "   Downloading dotnet-core...\n",
      "   Downloading swift_buildpack...\n",
      "   Downloaded sdk-for-nodejs\n",
      "   Downloading noop-buildpack...\n",
      "   Downloaded liberty-for-java\n",
      "   Downloading xpages_buildpack...\n",
      "   Downloaded dotnet-core_v2_5-20191209-1920\n",
      "   Downloading liberty_v3_14-20171013-1023...\n",
      "   Downloaded dotnet-core\n",
      "   Downloading swift_buildpack_v2_0_18-20190303-1915...\n",
      "   Downloaded swift_buildpack\n",
      "   Downloading swift_buildpack_v2_0_20-20190401-2122...\n",
      "   Downloaded xpages_buildpack\n",
      "   Downloading staticfile_buildpack...\n",
      "   Downloaded swift_buildpack_v2_0_18-20190303-1915\n",
      "   Downloading java_buildpack...\n",
      "   Downloaded liberty_v3_14-20171013-1023\n",
      "   Downloading ruby_buildpack...\n",
      "   Downloaded noop-buildpack\n",
      "   Downloading nodejs_buildpack...\n",
      "   Downloaded swift_buildpack_v2_0_20-20190401-2122\n",
      "   Downloading go_buildpack...\n",
      "   Downloaded staticfile_buildpack\n",
      "   Downloading python_buildpack...\n",
      "   Downloaded nodejs_buildpack\n",
      "   Downloading php_buildpack...\n",
      "   Downloaded ruby_buildpack\n",
      "   Downloading binary_buildpack...\n",
      "   Downloaded java_buildpack\n",
      "   Downloading swift_buildpack_cflinuxfs3_v2_1_0-20190404-1206...\n",
      "   Downloaded go_buildpack\n",
      "   Downloading sdk-for-nodejs_v3_28-20190722-1336...\n",
      "   Downloaded python_buildpack\n",
      "   Downloading nginx_buildpack...\n",
      "   Downloaded binary_buildpack\n",
      "   Downloading r_buildpack...\n",
      "   Downloaded swift_buildpack_cflinuxfs3_v2_1_0-20190404-1206\n",
      "   Downloading liberty-for-java_v3_36-20190905-1704...\n",
      "   Downloaded php_buildpack\n",
      "   Downloading liberty-for-java_v3_38-20191031-1433...\n",
      "   Downloaded sdk-for-nodejs_v3_28-20190722-1336\n",
      "   Downloading sdk-for-nodejs_v4_0_1-20190930-1425...\n",
      "   Downloaded nginx_buildpack\n",
      "   Downloading sdk-for-nodejs_v4_1-20191119-1309...\n",
      "   Downloaded r_buildpack\n",
      "   Downloading dotnet-core_v2_4-20190912-1554...\n",
      "   Downloaded liberty-for-java_v3_36-20190905-1704\n",
      "   Downloaded liberty-for-java_v3_38-20191031-1433\n",
      "   Downloaded sdk-for-nodejs_v4_0_1-20190930-1425\n",
      "   Downloaded sdk-for-nodejs_v4_1-20191119-1309\n",
      "   Downloaded dotnet-core_v2_4-20190912-1554\n",
      "   Cell 3a3789b3-cd20-4257-8a4b-a9408d28f95f creating container for instance 12fa5386-47ed-4c61-858e-fbd989f9377e\n",
      "   Cell 3a3789b3-cd20-4257-8a4b-a9408d28f95f successfully created container for instance 12fa5386-47ed-4c61-858e-fbd989f9377e\n",
      "   Downloading app package...\n",
      "   Downloading build artifacts cache...\n",
      "   Downloaded app package (11.3K)\n",
      "   Downloaded build artifacts cache (83.6M)\n",
      "   -----> Python Buildpack version 1.6.36\n",
      "   -----> Supplying Python\n",
      "   -----> Installing python 3.6.9\n",
      "          Copy [/tmp/cache/final/dependencies/ec42633e00984ac3a6504a473d5cbf466f27810759f651200ab12d5807915949/python-3.6.9-linux-x64-cflinuxfs3-f30bc832.tgz]\n",
      "   -----> Installing pip-pop 0.1.3\n",
      "          Copy [/tmp/cache/final/dependencies/5b0bd37a974d85d0614bb4c03eb3f8fb800c9e6c04e0a17046c18387f04e0b89/pip-pop-0.1.3-fc106ef6.tar.gz]\n",
      "   -----> Running Pip Install\n",
      "          Collecting Flask==1.1.1 (from -r /tmp/app/requirements.txt (line 1))\n",
      "            Downloading https://files.pythonhosted.org/packages/9b/93/628509b8d5dc749656a9641f4caf13540e2cdec85276964ff8f43bbb1d3b/Flask-1.1.1-py2.py3-none-any.whl (94kB)\n",
      "          Collecting watson-machine-learning-client==1.0.378 (from -r /tmp/app/requirements.txt (line 2))\n",
      "            Downloading https://files.pythonhosted.org/packages/12/67/66db412f00d19bfdc5725078bff373787513bfb14320f2804b9db3abb53a/watson_machine_learning_client-1.0.378-py3-none-any.whl (536kB)\n",
      "          Collecting Pillow==7.0.0 (from -r /tmp/app/requirements.txt (line 3))\n",
      "            Downloading https://files.pythonhosted.org/packages/19/5e/23dcc0ce3cc2abe92efd3cd61d764bee6ccdf1b667a1fb566f45dc249953/Pillow-7.0.0-cp36-cp36m-manylinux1_x86_64.whl (2.1MB)\n",
      "          Collecting itsdangerous>=0.24 (from Flask==1.1.1->-r /tmp/app/requirements.txt (line 1))\n",
      "            Using cached https://files.pythonhosted.org/packages/76/ae/44b03b253d6fade317f32c24d100b3b35c2239807046a4c953c7b89fa49e/itsdangerous-1.1.0-py2.py3-none-any.whl\n",
      "          Collecting Werkzeug>=0.15 (from Flask==1.1.1->-r /tmp/app/requirements.txt (line 1))\n",
      "            Using cached https://files.pythonhosted.org/packages/ce/42/3aeda98f96e85fd26180534d36570e4d18108d62ae36f87694b476b83d6f/Werkzeug-0.16.0-py2.py3-none-any.whl\n",
      "          Collecting click>=5.1 (from Flask==1.1.1->-r /tmp/app/requirements.txt (line 1))\n",
      "            Using cached https://files.pythonhosted.org/packages/fa/37/45185cb5abbc30d7257104c434fe0b07e5a195a6847506c074527aa599ec/Click-7.0-py2.py3-none-any.whl\n",
      "          Collecting Jinja2>=2.10.1 (from Flask==1.1.1->-r /tmp/app/requirements.txt (line 1))\n",
      "            Using cached https://files.pythonhosted.org/packages/65/e0/eb35e762802015cab1ccee04e8a277b03f1d8e53da3ec3106882ec42558b/Jinja2-2.10.3-py2.py3-none-any.whl\n",
      "          Collecting requests (from watson-machine-learning-client==1.0.378->-r /tmp/app/requirements.txt (line 2))\n",
      "            Using cached https://files.pythonhosted.org/packages/51/bd/23c926cd341ea6b7dd0b2a00aba99ae0f828be89d72b2190f27c11d4b7fb/requests-2.22.0-py2.py3-none-any.whl\n",
      "          Collecting lomond (from watson-machine-learning-client==1.0.378->-r /tmp/app/requirements.txt (line 2))\n",
      "            Using cached https://files.pythonhosted.org/packages/0f/b1/02eebed49c754b01b17de7705caa8c4ceecfb4f926cdafc220c863584360/lomond-0.3.3-py2.py3-none-any.whl\n",
      "          Collecting tqdm (from watson-machine-learning-client==1.0.378->-r /tmp/app/requirements.txt (line 2))\n",
      "            Using cached https://files.pythonhosted.org/packages/72/c9/7fc20feac72e79032a7c8138fd0d395dc6d8812b5b9edf53c3afd0b31017/tqdm-4.41.1-py2.py3-none-any.whl\n",
      "          Collecting tabulate (from watson-machine-learning-client==1.0.378->-r /tmp/app/requirements.txt (line 2))\n",
      "            Using cached https://files.pythonhosted.org/packages/c4/41/523f6a05e6dc3329a5660f6a81254c6cd87e5cfb5b7482bae3391d86ec3a/tabulate-0.8.6.tar.gz\n",
      "          Collecting certifi (from watson-machine-learning-client==1.0.378->-r /tmp/app/requirements.txt (line 2))\n",
      "            Using cached https://files.pythonhosted.org/packages/b9/63/df50cac98ea0d5b006c55a399c3bf1db9da7b5a24de7890bc9cfd5dd9e99/certifi-2019.11.28-py2.py3-none-any.whl\n",
      "          Collecting pandas (from watson-machine-learning-client==1.0.378->-r /tmp/app/requirements.txt (line 2))\n",
      "            Using cached https://files.pythonhosted.org/packages/52/3f/f6a428599e0d4497e1595030965b5ba455fd8ade6e977e3c819973c4b41d/pandas-0.25.3-cp36-cp36m-manylinux1_x86_64.whl\n",
      "          Collecting ibm-cos-sdk (from watson-machine-learning-client==1.0.378->-r /tmp/app/requirements.txt (line 2))\n",
      "            Using cached https://files.pythonhosted.org/packages/6f/91/86b2816c7b77d816b03a1ad6cf7db4b1f67556af395d5b93fdae6086c933/ibm-cos-sdk-2.6.0.tar.gz\n",
      "          Collecting urllib3 (from watson-machine-learning-client==1.0.378->-r /tmp/app/requirements.txt (line 2))\n",
      "            Using cached https://files.pythonhosted.org/packages/b4/40/a9837291310ee1ccc242ceb6ebfd9eb21539649f193a7c8c86ba15b98539/urllib3-1.25.7-py2.py3-none-any.whl\n",
      "          Collecting MarkupSafe>=0.23 (from Jinja2>=2.10.1->Flask==1.1.1->-r /tmp/app/requirements.txt (line 1))\n",
      "            Using cached https://files.pythonhosted.org/packages/b2/5f/23e0023be6bb885d00ffbefad2942bc51a620328ee910f64abe5a8d18dd1/MarkupSafe-1.1.1-cp36-cp36m-manylinux1_x86_64.whl\n",
      "          Collecting idna<2.9,>=2.5 (from requests->watson-machine-learning-client==1.0.378->-r /tmp/app/requirements.txt (line 2))\n",
      "            Using cached https://files.pythonhosted.org/packages/14/2c/cd551d81dbe15200be1cf41cd03869a46fe7226e7450af7a6545bfc474c9/idna-2.8-py2.py3-none-any.whl\n",
      "          Collecting chardet<3.1.0,>=3.0.2 (from requests->watson-machine-learning-client==1.0.378->-r /tmp/app/requirements.txt (line 2))\n",
      "            Using cached https://files.pythonhosted.org/packages/bc/a9/01ffebfb562e4274b6487b4bb1ddec7ca55ec7510b22e4c51f14098443b8/chardet-3.0.4-py2.py3-none-any.whl\n",
      "          Collecting six>=1.10.0 (from lomond->watson-machine-learning-client==1.0.378->-r /tmp/app/requirements.txt (line 2))\n",
      "            Using cached https://files.pythonhosted.org/packages/65/26/32b8464df2a97e6dd1b656ed26b2c194606c16fe163c695a992b36c11cdf/six-1.13.0-py2.py3-none-any.whl\n",
      "          Collecting pytz>=2017.2 (from pandas->watson-machine-learning-client==1.0.378->-r /tmp/app/requirements.txt (line 2))\n",
      "            Using cached https://files.pythonhosted.org/packages/e7/f9/f0b53f88060247251bf481fa6ea62cd0d25bf1b11a87888e53ce5b7c8ad2/pytz-2019.3-py2.py3-none-any.whl\n",
      "          Collecting python-dateutil>=2.6.1 (from pandas->watson-machine-learning-client==1.0.378->-r /tmp/app/requirements.txt (line 2))\n",
      "            Using cached https://files.pythonhosted.org/packages/d4/70/d60450c3dd48ef87586924207ae8907090de0b306af2bce5d134d78615cb/python_dateutil-2.8.1-py2.py3-none-any.whl\n",
      "          Collecting numpy>=1.13.3 (from pandas->watson-machine-learning-client==1.0.378->-r /tmp/app/requirements.txt (line 2))\n",
      "            Using cached https://files.pythonhosted.org/packages/62/20/4d43e141b5bc426ba38274933ef8e76e85c7adea2c321ecf9ebf7421cedf/numpy-1.18.1-cp36-cp36m-manylinux1_x86_64.whl\n",
      "          Collecting ibm-cos-sdk-core==2.6.0 (from ibm-cos-sdk->watson-machine-learning-client==1.0.378->-r /tmp/app/requirements.txt (line 2))\n",
      "            Using cached https://files.pythonhosted.org/packages/ea/c1/c823507c472bf88dbd045445df6850744111d34fd218c6ea3b9c9bde2cfe/ibm-cos-sdk-core-2.6.0.tar.gz\n",
      "          Collecting ibm-cos-sdk-s3transfer==2.6.0 (from ibm-cos-sdk->watson-machine-learning-client==1.0.378->-r /tmp/app/requirements.txt (line 2))\n",
      "            Using cached https://files.pythonhosted.org/packages/6f/92/682a28b99777a3fdc65e6d5641ed7e1ca470d0eab3bb2826cc30c6b60e21/ibm-cos-sdk-s3transfer-2.6.0.tar.gz\n",
      "          Collecting jmespath<1.0.0,>=0.7.1 (from ibm-cos-sdk->watson-machine-learning-client==1.0.378->-r /tmp/app/requirements.txt (line 2))\n",
      "            Using cached https://files.pythonhosted.org/packages/83/94/7179c3832a6d45b266ddb2aac329e101367fbdb11f425f13771d27f225bb/jmespath-0.9.4-py2.py3-none-any.whl\n",
      "          Collecting docutils<0.16,>=0.10 (from ibm-cos-sdk-core==2.6.0->ibm-cos-sdk->watson-machine-learning-client==1.0.378->-r /tmp/app/requirements.txt (line 2))\n",
      "            Using cached https://files.pythonhosted.org/packages/22/cd/a6aa959dca619918ccb55023b4cb151949c64d4d5d55b3f4ffd7eee0c6e8/docutils-0.15.2-py3-none-any.whl\n",
      "          Installing collected packages: itsdangerous, Werkzeug, click, MarkupSafe, Jinja2, Flask, idna, urllib3, certifi, chardet, requests, six, lomond, tqdm, tabulate, pytz, python-dateutil, numpy, pandas, jmespath, docutils, ibm-cos-sdk-core, ibm-cos-sdk-s3transfer, ibm-cos-sdk, watson-machine-learning-client, Pillow\n",
      "            The script flask is installed in '/tmp/contents287451788/deps/0/python/bin' which is not on PATH.\n",
      "            Consider adding this directory to PATH or, if you prefer to suppress this warning, use --no-warn-script-location.\n",
      "            The script chardetect is installed in '/tmp/contents287451788/deps/0/python/bin' which is not on PATH.\n",
      "            Consider adding this directory to PATH or, if you prefer to suppress this warning, use --no-warn-script-location.\n",
      "            The script tqdm is installed in '/tmp/contents287451788/deps/0/python/bin' which is not on PATH.\n",
      "            Consider adding this directory to PATH or, if you prefer to suppress this warning, use --no-warn-script-location.\n",
      "            Running setup.py install for tabulate: started\n",
      "              Running setup.py install for tabulate: finished with status 'done'\n",
      "            The scripts f2py, f2py3 and f2py3.6 are installed in '/tmp/contents287451788/deps/0/python/bin' which is not on PATH.\n",
      "            Consider adding this directory to PATH or, if you prefer to suppress this warning, use --no-warn-script-location.\n",
      "            Running setup.py install for ibm-cos-sdk-core: started\n",
      "              Running setup.py install for ibm-cos-sdk-core: finished with status 'done'\n",
      "            Running setup.py install for ibm-cos-sdk-s3transfer: started\n",
      "              Running setup.py install for ibm-cos-sdk-s3transfer: finished with status 'done'\n",
      "            Running setup.py install for ibm-cos-sdk: started\n",
      "              Running setup.py install for ibm-cos-sdk: finished with status 'done'\n",
      "          Successfully installed Flask-1.1.1 Jinja2-2.10.3 MarkupSafe-1.1.1 Pillow-7.0.0 Werkzeug-0.16.0 certifi-2019.11.28 chardet-3.0.4 click-7.0 docutils-0.15.2 ibm-cos-sdk-2.6.0 ibm-cos-sdk-core-2.6.0 ibm-cos-sdk-s3transfer-2.6.0 idna-2.8 itsdangerous-1.1.0 jmespath-0.9.4 lomond-0.3.3 numpy-1.18.1 pandas-0.25.3 python-dateutil-2.8.1 pytz-2019.3 requests-2.22.0 six-1.13.0 tabulate-0.8.6 tqdm-4.41.1 urllib3-1.25.7 watson-machine-learning-client-1.0.378\n",
      "          You are using pip version 18.1, however version 19.3.1 is available.\n",
      "          You should consider upgrading via the 'pip install --upgrade pip' command.\n",
      "   Exit status 0\n",
      "   Uploading droplet, build artifacts cache...\n",
      "   Uploading droplet...\n",
      "   Uploading build artifacts cache...\n",
      "   Uploaded build artifacts cache (86.2M)\n",
      "   Uploaded droplet (90.5M)\n",
      "   Uploading complete\n",
      "   Cell 3a3789b3-cd20-4257-8a4b-a9408d28f95f stopping instance 12fa5386-47ed-4c61-858e-fbd989f9377e\n",
      "   Cell 3a3789b3-cd20-4257-8a4b-a9408d28f95f destroying container for instance 12fa5386-47ed-4c61-858e-fbd989f9377e\n",
      "   Cell 3a3789b3-cd20-4257-8a4b-a9408d28f95f successfully destroyed container for instance 12fa5386-47ed-4c61-858e-fbd989f9377e\n",
      "\n",
      "Waiting for app to start...\n",
      "\n",
      "name:              flask-digit-recognizer\n",
      "requested state:   started\n",
      "routes:            flask-digit-recognizer.us-south.cf.appdomain.cloud\n",
      "last uploaded:     Fri 10 Jan 23:08:59 UTC 2020\n",
      "stack:             cflinuxfs3\n",
      "buildpacks:        python\n",
      "\n",
      "type:            web\n",
      "instances:       1/1\n",
      "memory usage:    128M\n",
      "start command:   python server.py\n",
      "     state     since                  cpu    memory        disk       details\n",
      "#0   running   2020-01-10T23:09:28Z   0.0%   40K of 128M   8K of 1G   \n",
      "\n"
     ]
    }
   ],
   "source": [
    "%%bash\n",
    "cd Python-Flask-MNIST-sample-app/app\n",
    "export IBMCLOUD_API_KEY=\n",
    "ibmcloud login\n",
    "ibmcloud target --cf\n",
    "ibmcloud app push"
   ]
  },
  {
   "cell_type": "code",
   "execution_count": null,
   "metadata": {},
   "outputs": [],
   "source": [
    "%%bash\n",
    "export IBMCLOUD_API_KEY=\n",
    "ibmcloud login\n",
    "ibmcloud target --cf\n",
    "ibmcloud cf logs flask-digit-recognizer --recent"
   ]
  },
  {
   "cell_type": "markdown",
   "metadata": {},
   "source": [
    "<p>The <b>Visit App URL</b> link in cloud foundry contains the url to your Machine Learning App</p>\n",
    "If you forget the url takes the form of \"https://[app-name].mybluemix.net\"."
   ]
  },
  {
   "cell_type": "markdown",
   "metadata": {},
   "source": [
    "### Thanks for completing this lesson!\n",
    "Created by <a href=\"https://linkedin.com/in/saeedaghabozorgi\"> Saeed Aghabozorgi </a>, <a href=\"https://www.linkedin.com/in/yi-leng-yao-84451275/\">Yi Yao</a></h4>"
   ]
  },
  {
   "cell_type": "markdown",
   "metadata": {},
   "source": [
    "<hr>\n",
    "\n",
    "Copyright &copy; 2018 [Cognitive Class](https://cocl.us/DX0108EN_CC). This notebook and its source code are released under the terms of the [MIT License](https://bigdatauniversity.com/mit-license/)."
   ]
  }
 ],
 "metadata": {
  "kernelspec": {
   "display_name": "Python 3",
   "language": "python",
   "name": "python3"
  },
  "language_info": {
   "codemirror_mode": {
    "name": "ipython",
    "version": 3
   },
   "file_extension": ".py",
   "mimetype": "text/x-python",
   "name": "python",
   "nbconvert_exporter": "python",
   "pygments_lexer": "ipython3",
   "version": "3.7.3"
  }
 },
 "nbformat": 4,
 "nbformat_minor": 2
}
